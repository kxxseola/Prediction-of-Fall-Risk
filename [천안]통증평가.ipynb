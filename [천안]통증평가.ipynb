{
 "cells": [
  {
   "cell_type": "code",
   "execution_count": 16,
   "metadata": {},
   "outputs": [],
   "source": [
    "import warnings\n",
    "warnings.filterwarnings('ignore')\n",
    "import pandas as pd"
   ]
  },
  {
   "cell_type": "code",
   "execution_count": 17,
   "metadata": {},
   "outputs": [],
   "source": [
    "# patient list\n",
    "\n",
    "patient_df = pd.read_excel('/Users/yena/Desktop/SCH/척척석사/EMR related/낙상데이터/천안/(천안병원)간호간병통합병동 낙상대상자 리스트(2017-2021.10).xlsx', index_col =0)\n",
    "patient_list = patient_df['등록번호'].astype(str).unique()  # 등록번호 unique -> 228명 확인\n",
    "fall_date = patient_df[['등록번호', '낙상발생일시']]\n",
    "\n",
    "duration=[]\n",
    "\n",
    "for i in fall_date['낙상발생일시'].tolist():\n",
    "    i = str(i)\n",
    "    i = i.split(' ')[0]\n",
    "    duration.append(i)\n",
    "\n",
    "fall_date['낙상발생일시'] = duration\n"
   ]
  },
  {
   "cell_type": "code",
   "execution_count": 18,
   "metadata": {},
   "outputs": [],
   "source": [
    "# str_to_dt 함수\n",
    "\n",
    "import datetime\n",
    "\n",
    "def str_to_dt(x):\n",
    "    x = str(x)\n",
    "    d = int(x[0:4])\n",
    "    y = int(x[4:6])\n",
    "    z = int(x[6:8])\n",
    "    # hours = int(x[8:10])\n",
    "    # mins = int(x[10:12])\n",
    "    # secs = int(x[12:])\n",
    "    # str_data = (d+','+y+','+z+','+hours+','+mins+','+secs)\n",
    "    new_time = datetime.datetime(d,y,z)\n",
    "    new_time_no = new_time.replace(microsecond = 0)\n",
    "    \n",
    "    return new_time_no\n",
    "\n",
    "def clean_str(x):       # 다른 파일이랑 다름 \n",
    "    x = x.replace('-','0')\n",
    "    x = float(x)\n",
    "    return x\n",
    "\n",
    "def dash_clear(x):\n",
    "    x = str(x)\n",
    "    x = x.split(' ')[0]\n",
    "    x = x.replace('-','')\n",
    "    x = str_to_dt(x)\n",
    "    \n",
    "    return x"
   ]
  },
  {
   "cell_type": "code",
   "execution_count": 19,
   "metadata": {},
   "outputs": [],
   "source": [
    "pain = pd.read_excel('/Users/yena/Desktop/SCH/척척석사/EMR related/낙상데이터/천안/(비식별화)천안_통증.xlsx')\n",
    "disease = pain.copy()\n",
    "pain = pain[['등록번호', '통증강도', '평가일자']].astype(str)"
   ]
  },
  {
   "cell_type": "code",
   "execution_count": 20,
   "metadata": {},
   "outputs": [
    {
     "data": {
      "text/plain": [
       "21549"
      ]
     },
     "execution_count": 20,
     "metadata": {},
     "output_type": "execute_result"
    }
   ],
   "source": [
    "len(pain['등록번호'].unique())"
   ]
  },
  {
   "cell_type": "code",
   "execution_count": 21,
   "metadata": {},
   "outputs": [],
   "source": [
    "pain = pain.drop_duplicates()"
   ]
  },
  {
   "cell_type": "code",
   "execution_count": 22,
   "metadata": {},
   "outputs": [
    {
     "data": {
      "text/plain": [
       "80"
      ]
     },
     "execution_count": 22,
     "metadata": {},
     "output_type": "execute_result"
    }
   ],
   "source": [
    "pain['통증강도'] = pain['통증강도'].apply((clean_str))\n",
    "len(patient_list)"
   ]
  },
  {
   "cell_type": "code",
   "execution_count": 23,
   "metadata": {},
   "outputs": [],
   "source": [
    "pain_df = pd.DataFrame(pain.groupby(['등록번호'])['통증강도'].mean()).reset_index().fillna(0)\n",
    "pain_dt = pain_df[pain_df['등록번호'].isin(set(patient_list))]"
   ]
  },
  {
   "cell_type": "code",
   "execution_count": 24,
   "metadata": {},
   "outputs": [],
   "source": [
    "pd.DataFrame(pain.groupby(['등록번호'])['통증강도'].mean()).reset_index().fillna(0).to_csv('천안_통증_whole.csv')"
   ]
  },
  {
   "cell_type": "code",
   "execution_count": 25,
   "metadata": {},
   "outputs": [],
   "source": [
    "pain_df.to_csv('천안_통증.csv')"
   ]
  }
 ],
 "metadata": {
  "kernelspec": {
   "display_name": "python_study_3",
   "language": "python",
   "name": "python3"
  },
  "language_info": {
   "codemirror_mode": {
    "name": "ipython",
    "version": 3
   },
   "file_extension": ".py",
   "mimetype": "text/x-python",
   "name": "python",
   "nbconvert_exporter": "python",
   "pygments_lexer": "ipython3",
   "version": "3.8.13"
  },
  "orig_nbformat": 4,
  "vscode": {
   "interpreter": {
    "hash": "c9d2ad4ecc603e49a7c29a3e0c552622d4cf0cd788e32e1ea188f0c1627c1560"
   }
  }
 },
 "nbformat": 4,
 "nbformat_minor": 2
}
