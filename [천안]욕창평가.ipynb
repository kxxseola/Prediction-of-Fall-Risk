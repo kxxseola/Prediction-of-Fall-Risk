{
 "cells": [
  {
   "cell_type": "code",
   "execution_count": 1,
   "metadata": {},
   "outputs": [],
   "source": [
    "import warnings\n",
    "warnings.filterwarnings('ignore')\n",
    "import pandas as pd"
   ]
  },
  {
   "cell_type": "code",
   "execution_count": 2,
   "metadata": {},
   "outputs": [],
   "source": [
    "# patient list\n",
    "\n",
    "patient_df = pd.read_excel('/Users/yena/Desktop/SCH/척척석사/EMR related/낙상데이터/천안/(천안병원)간호간병통합병동 낙상대상자 리스트(2017-2021.10).xlsx', index_col =0)\n",
    "patient_list = patient_df['등록번호'].astype(str).unique()  # 등록번호 unique -> 228명 확인\n",
    "fall_date = patient_df[['등록번호', '낙상발생일시']]\n",
    "\n",
    "duration=[]\n",
    "\n",
    "for i in fall_date['낙상발생일시'].tolist():\n",
    "    i = str(i)\n",
    "    i = i.split(' ')[0]\n",
    "    duration.append(i)\n",
    "\n",
    "fall_date['낙상발생일시'] = duration\n",
    "\n"
   ]
  },
  {
   "cell_type": "code",
   "execution_count": 4,
   "metadata": {},
   "outputs": [],
   "source": [
    "# str_to_dt 함수\n",
    "\n",
    "import datetime\n",
    "\n",
    "def str_to_dt(x):\n",
    "    x = str(x)\n",
    "    d = int(x[0:4])\n",
    "    y = int(x[4:6])\n",
    "    z = int(x[6:8])\n",
    "    # hours = int(x[8:10])\n",
    "    # mins = int(x[10:12])\n",
    "    # secs = int(x[12:])\n",
    "    # str_data = (d+','+y+','+z+','+hours+','+mins+','+secs)\n",
    "    new_time = datetime.datetime(d,y,z)\n",
    "    new_time_no = new_time.replace(microsecond = 0)\n",
    "    \n",
    "    return new_time_no"
   ]
  },
  {
   "cell_type": "code",
   "execution_count": 5,
   "metadata": {},
   "outputs": [],
   "source": [
    "def clean_str(x):\n",
    "    x = x.replace('-','')\n",
    "    x = str_to_dt(x)\n",
    "    return x"
   ]
  },
  {
   "cell_type": "code",
   "execution_count": 6,
   "metadata": {},
   "outputs": [],
   "source": [
    "def dash_clear(x):\n",
    "    x = str(x)\n",
    "    x = x.split(' ')[0]\n",
    "    x = x.replace('-','')\n",
    "    x = str_to_dt(x)\n",
    "    \n",
    "    return x"
   ]
  },
  {
   "cell_type": "code",
   "execution_count": 3,
   "metadata": {},
   "outputs": [],
   "source": [
    "sore = pd.read_excel('/Users/yena/Desktop/SCH/척척석사/EMR related/낙상데이터/천안/(비식별화)욕창_201707_202111.xlsx')"
   ]
  },
  {
   "cell_type": "code",
   "execution_count": 7,
   "metadata": {},
   "outputs": [
    {
     "data": {
      "text/plain": [
       "17531"
      ]
     },
     "execution_count": 7,
     "metadata": {},
     "output_type": "execute_result"
    }
   ],
   "source": [
    "len(sore['등록번호'].unique())"
   ]
  },
  {
   "cell_type": "code",
   "execution_count": 8,
   "metadata": {},
   "outputs": [
    {
     "data": {
      "text/plain": [
       "74"
      ]
     },
     "execution_count": 8,
     "metadata": {},
     "output_type": "execute_result"
    }
   ],
   "source": [
    "sore['등록번호'] = sore['등록번호'].astype(str)\n",
    "sore = sore[['등록번호', '도구명', '상세내역명', '평가일자']]\n",
    "sore = sore[sore['등록번호'].isin(set(patient_list))]\n",
    "# sore = sore[['등록번호', '도구명','상세내역명', '평가일자']]\n",
    "\n",
    "len(sore['등록번호'].unique())"
   ]
  },
  {
   "cell_type": "code",
   "execution_count": 9,
   "metadata": {},
   "outputs": [
    {
     "data": {
      "text/plain": [
       "74"
      ]
     },
     "execution_count": 9,
     "metadata": {},
     "output_type": "execute_result"
    }
   ],
   "source": [
    "sore['평가일자'] = sore['평가일자'].astype(str)\n",
    "fall_date = fall_date.astype(str)\n",
    "sore = sore.merge(fall_date, on=['등록번호'], how='inner')\n",
    "sore = sore.drop_duplicates()\n",
    "len(sore['등록번호'].unique())"
   ]
  },
  {
   "cell_type": "code",
   "execution_count": 10,
   "metadata": {},
   "outputs": [],
   "source": [
    "# sore['평가일자'] = sore['평가일자'].apply(str_to_dt)\n",
    "sore['낙상발생일시'] = sore['낙상발생일시'].apply(dash_clear)"
   ]
  },
  {
   "cell_type": "code",
   "execution_count": 11,
   "metadata": {},
   "outputs": [
    {
     "name": "stdout",
     "output_type": "stream",
     "text": [
      "<class 'pandas.core.frame.DataFrame'>\n",
      "Int64Index: 9070 entries, 0 to 9069\n",
      "Data columns (total 5 columns):\n",
      " #   Column  Non-Null Count  Dtype         \n",
      "---  ------  --------------  -----         \n",
      " 0   등록번호    9070 non-null   object        \n",
      " 1   도구명     9070 non-null   object        \n",
      " 2   상세내역명   9070 non-null   object        \n",
      " 3   평가일자    9070 non-null   object        \n",
      " 4   낙상발생일시  9070 non-null   datetime64[ns]\n",
      "dtypes: datetime64[ns](1), object(4)\n",
      "memory usage: 425.2+ KB\n"
     ]
    }
   ],
   "source": [
    "sore.info()"
   ]
  },
  {
   "cell_type": "code",
   "execution_count": 12,
   "metadata": {},
   "outputs": [
    {
     "data": {
      "text/html": [
       "<div>\n",
       "<style scoped>\n",
       "    .dataframe tbody tr th:only-of-type {\n",
       "        vertical-align: middle;\n",
       "    }\n",
       "\n",
       "    .dataframe tbody tr th {\n",
       "        vertical-align: top;\n",
       "    }\n",
       "\n",
       "    .dataframe thead th {\n",
       "        text-align: right;\n",
       "    }\n",
       "</style>\n",
       "<table border=\"1\" class=\"dataframe\">\n",
       "  <thead>\n",
       "    <tr style=\"text-align: right;\">\n",
       "      <th></th>\n",
       "      <th>등록번호</th>\n",
       "      <th>도구명</th>\n",
       "      <th>상세내역명</th>\n",
       "      <th>평가일자</th>\n",
       "      <th>낙상발생일시</th>\n",
       "    </tr>\n",
       "  </thead>\n",
       "  <tbody>\n",
       "    <tr>\n",
       "      <th>0</th>\n",
       "      <td>1393198</td>\n",
       "      <td>영양상태</td>\n",
       "      <td>부적절함(부족)</td>\n",
       "      <td>20170702</td>\n",
       "      <td>2017-07-02</td>\n",
       "    </tr>\n",
       "    <tr>\n",
       "      <th>1</th>\n",
       "      <td>1393198</td>\n",
       "      <td>영양상태</td>\n",
       "      <td>부적절함(부족)</td>\n",
       "      <td>20170702</td>\n",
       "      <td>2017-07-10</td>\n",
       "    </tr>\n",
       "  </tbody>\n",
       "</table>\n",
       "</div>"
      ],
      "text/plain": [
       "      등록번호   도구명     상세내역명      평가일자     낙상발생일시\n",
       "0  1393198  영양상태  부적절함(부족)  20170702 2017-07-02\n",
       "1  1393198  영양상태  부적절함(부족)  20170702 2017-07-10"
      ]
     },
     "execution_count": 12,
     "metadata": {},
     "output_type": "execute_result"
    }
   ],
   "source": [
    "sore.head(2)"
   ]
  },
  {
   "cell_type": "code",
   "execution_count": 13,
   "metadata": {},
   "outputs": [],
   "source": [
    "sore['평가일자'] = sore['평가일자'].apply(str_to_dt)"
   ]
  },
  {
   "cell_type": "code",
   "execution_count": 14,
   "metadata": {},
   "outputs": [
    {
     "name": "stdout",
     "output_type": "stream",
     "text": [
      "<class 'pandas.core.frame.DataFrame'>\n",
      "Int64Index: 9070 entries, 0 to 9069\n",
      "Data columns (total 5 columns):\n",
      " #   Column  Non-Null Count  Dtype         \n",
      "---  ------  --------------  -----         \n",
      " 0   등록번호    9070 non-null   object        \n",
      " 1   도구명     9070 non-null   object        \n",
      " 2   상세내역명   9070 non-null   object        \n",
      " 3   평가일자    9070 non-null   datetime64[ns]\n",
      " 4   낙상발생일시  9070 non-null   datetime64[ns]\n",
      "dtypes: datetime64[ns](2), object(3)\n",
      "memory usage: 425.2+ KB\n"
     ]
    }
   ],
   "source": [
    "sore.info()"
   ]
  },
  {
   "cell_type": "code",
   "execution_count": 15,
   "metadata": {},
   "outputs": [
    {
     "data": {
      "text/plain": [
       "array(['0 days', '1 days', '3 days', '2 days'], dtype=object)"
      ]
     },
     "execution_count": 15,
     "metadata": {},
     "output_type": "execute_result"
    }
   ],
   "source": [
    "sore['유무'] = sore['낙상발생일시'] -  sore['평가일자']\n",
    "sore['유무'] = sore['유무'].astype(str)\n",
    "cond = ['0 days', '1 days', '2 days', '3 days']\n",
    "sore_df = sore[sore['유무'].isin(set(cond))]\n",
    "sore_df['유무'].unique()"
   ]
  },
  {
   "cell_type": "code",
   "execution_count": 16,
   "metadata": {},
   "outputs": [
    {
     "data": {
      "text/html": [
       "<div>\n",
       "<style scoped>\n",
       "    .dataframe tbody tr th:only-of-type {\n",
       "        vertical-align: middle;\n",
       "    }\n",
       "\n",
       "    .dataframe tbody tr th {\n",
       "        vertical-align: top;\n",
       "    }\n",
       "\n",
       "    .dataframe thead th {\n",
       "        text-align: right;\n",
       "    }\n",
       "</style>\n",
       "<table border=\"1\" class=\"dataframe\">\n",
       "  <thead>\n",
       "    <tr style=\"text-align: right;\">\n",
       "      <th></th>\n",
       "      <th>등록번호</th>\n",
       "      <th>도구명</th>\n",
       "      <th>상세내역명</th>\n",
       "      <th>평가일자</th>\n",
       "      <th>낙상발생일시</th>\n",
       "      <th>유무</th>\n",
       "      <th>작업</th>\n",
       "    </tr>\n",
       "  </thead>\n",
       "  <tbody>\n",
       "    <tr>\n",
       "      <th>0</th>\n",
       "      <td>1393198</td>\n",
       "      <td>영양상태</td>\n",
       "      <td>부적절함(부족)</td>\n",
       "      <td>2017-07-02</td>\n",
       "      <td>2017-07-02</td>\n",
       "      <td>0 days</td>\n",
       "      <td>1393198/2017-07-02/2017-07-02/영양상태/부적절함(부족)</td>\n",
       "    </tr>\n",
       "    <tr>\n",
       "      <th>3</th>\n",
       "      <td>1393198</td>\n",
       "      <td>마찰과 미끄러짐</td>\n",
       "      <td>문제 없음</td>\n",
       "      <td>2017-07-02</td>\n",
       "      <td>2017-07-02</td>\n",
       "      <td>0 days</td>\n",
       "      <td>1393198/2017-07-02/2017-07-02/마찰과 미끄러짐/문제 없음</td>\n",
       "    </tr>\n",
       "    <tr>\n",
       "      <th>6</th>\n",
       "      <td>1393198</td>\n",
       "      <td>기동력</td>\n",
       "      <td>정상</td>\n",
       "      <td>2017-07-02</td>\n",
       "      <td>2017-07-02</td>\n",
       "      <td>0 days</td>\n",
       "      <td>1393198/2017-07-02/2017-07-02/기동력/정상</td>\n",
       "    </tr>\n",
       "    <tr>\n",
       "      <th>9</th>\n",
       "      <td>1393198</td>\n",
       "      <td>활동정도</td>\n",
       "      <td>정상</td>\n",
       "      <td>2017-07-02</td>\n",
       "      <td>2017-07-02</td>\n",
       "      <td>0 days</td>\n",
       "      <td>1393198/2017-07-02/2017-07-02/활동정도/정상</td>\n",
       "    </tr>\n",
       "    <tr>\n",
       "      <th>12</th>\n",
       "      <td>1393198</td>\n",
       "      <td>습한정도</td>\n",
       "      <td>거의 건조</td>\n",
       "      <td>2017-07-02</td>\n",
       "      <td>2017-07-02</td>\n",
       "      <td>0 days</td>\n",
       "      <td>1393198/2017-07-02/2017-07-02/습한정도/거의 건조</td>\n",
       "    </tr>\n",
       "  </tbody>\n",
       "</table>\n",
       "</div>"
      ],
      "text/plain": [
       "       등록번호       도구명     상세내역명        평가일자      낙상발생일시      유무  \\\n",
       "0   1393198      영양상태  부적절함(부족)  2017-07-02  2017-07-02  0 days   \n",
       "3   1393198  마찰과 미끄러짐     문제 없음  2017-07-02  2017-07-02  0 days   \n",
       "6   1393198       기동력        정상  2017-07-02  2017-07-02  0 days   \n",
       "9   1393198      활동정도        정상  2017-07-02  2017-07-02  0 days   \n",
       "12  1393198      습한정도     거의 건조  2017-07-02  2017-07-02  0 days   \n",
       "\n",
       "                                              작업  \n",
       "0    1393198/2017-07-02/2017-07-02/영양상태/부적절함(부족)  \n",
       "3   1393198/2017-07-02/2017-07-02/마찰과 미끄러짐/문제 없음  \n",
       "6           1393198/2017-07-02/2017-07-02/기동력/정상  \n",
       "9          1393198/2017-07-02/2017-07-02/활동정도/정상  \n",
       "12      1393198/2017-07-02/2017-07-02/습한정도/거의 건조  "
      ]
     },
     "execution_count": 16,
     "metadata": {},
     "output_type": "execute_result"
    }
   ],
   "source": [
    "sore_df = sore_df.astype(str)\n",
    "\n",
    "sore_df['작업'] = sore_df['등록번호']+'/'+sore_df['낙상발생일시']+'/'+sore_df['평가일자']+'/'+sore_df['도구명'] +'/' +sore_df['상세내역명']\n",
    "sore_df.head()"
   ]
  },
  {
   "cell_type": "code",
   "execution_count": 17,
   "metadata": {},
   "outputs": [
    {
     "name": "stdout",
     "output_type": "stream",
     "text": [
      "72\n",
      "72\n",
      "72\n"
     ]
    }
   ],
   "source": [
    "adl_detail_act = []\n",
    "adl_detail_nut = []\n",
    "adl_detail_mov = []\n",
    "\n",
    "for i in sore_df['작업']:\n",
    "    patient = i.split('/')[0]\n",
    "    fall_dates = i.split('/')[1]\n",
    "    # fall_dates = datetime.datetime.strptime(fall_dates, format_)\n",
    "    dates = i.split('/')[2]\n",
    "    # dates = datetime.datetime.strptime(dates, format_)\n",
    "    adl = i.split('/')[3]\n",
    "    detail = i.split('/')[-1]\n",
    "    if adl == '활동정도':\n",
    "        if  detail =='정상':\n",
    "            k = patient +'/'+ str(fall_dates) + '/' + str(dates)+'/활동정도'+'/'+'0'\n",
    "            adl_detail_act.append(k)\n",
    "        elif detail =='가끔보행':\n",
    "            k = patient +'/'+ str(fall_dates) + '/' + str(dates)+'/활동정도'+'/'+'1'\n",
    "            adl_detail_act.append(k)\n",
    "        elif detail =='의자고정':\n",
    "            k = patient +'/'+ str(fall_dates) + '/' + str(dates)+'/활동정도'+'/'+'2'\n",
    "            adl_detail_act.append(k)\n",
    "        elif detail =='침상안정':\n",
    "            k = patient +'/'+ str(fall_dates) + '/' + str(dates)+'/활동정도'+'/'+'3'\n",
    "            adl_detail_act.append(k)\n",
    " \n",
    "    elif adl =='영양상태':        \n",
    "        if  detail =='양호(우수)':\n",
    "            k = patient +'/'+ str(fall_dates) + '/' + str(dates)+'/영양상태'+'/'+'0'\n",
    "            adl_detail_nut.append(k)\n",
    "        elif  detail =='적절함(보통)':\n",
    "            k = patient +'/'+ str(fall_dates) + '/' + str(dates)+'/영양상태'+'/'+'0'\n",
    "            adl_detail_nut.append(k)\n",
    "        elif  detail =='부적절함(부족)':\n",
    "            k = patient +'/'+ str(fall_dates) + '/' + str(dates)+'/영양상태'+'/'+'1'\n",
    "            adl_detail_nut.append(k)\n",
    "        elif  detail =='불량(매우부족)':\n",
    "            k = patient +'/'+ str(fall_dates) + '/' + str(dates)+'/영양상태'+'/'+'2'\n",
    "            adl_detail_nut.append(k)\n",
    "\n",
    "    elif adl =='기동력':       \n",
    "        if  detail =='정상':\n",
    "            k = patient +'/'+ str(fall_dates) + '/' + str(dates)+'/기동력'+'/'+'0'\n",
    "            adl_detail_mov.append(k)\n",
    "        elif  detail =='전혀없음':\n",
    "            k = patient +'/'+ str(fall_dates) + '/' + str(dates)+'/기동력'+'/'+'0'\n",
    "            adl_detail_mov.append(k)\n",
    "        elif  detail =='약간제한':\n",
    "            k = patient +'/'+ str(fall_dates) + '/' + str(dates)+'/기동력'+'/'+'1'\n",
    "            adl_detail_mov.append(k)\n",
    "        elif  detail =='매우제한':\n",
    "            k = patient +'/'+ str(fall_dates) + '/' + str(dates)+'/기동력'+'/'+'2'\n",
    "            adl_detail_mov.append(k)\n",
    "\n",
    "print(len(adl_detail_act))\n",
    "print(len(adl_detail_nut))\n",
    "print(len(adl_detail_mov))"
   ]
  },
  {
   "cell_type": "code",
   "execution_count": 18,
   "metadata": {},
   "outputs": [
    {
     "name": "stdout",
     "output_type": "stream",
     "text": [
      "(72, 4)\n"
     ]
    },
    {
     "data": {
      "text/html": [
       "<div>\n",
       "<style scoped>\n",
       "    .dataframe tbody tr th:only-of-type {\n",
       "        vertical-align: middle;\n",
       "    }\n",
       "\n",
       "    .dataframe tbody tr th {\n",
       "        vertical-align: top;\n",
       "    }\n",
       "\n",
       "    .dataframe thead th {\n",
       "        text-align: right;\n",
       "    }\n",
       "</style>\n",
       "<table border=\"1\" class=\"dataframe\">\n",
       "  <thead>\n",
       "    <tr style=\"text-align: right;\">\n",
       "      <th></th>\n",
       "      <th>등록번호</th>\n",
       "      <th>낙상발생일시</th>\n",
       "      <th>평가일자</th>\n",
       "      <th>욕창_행동</th>\n",
       "    </tr>\n",
       "  </thead>\n",
       "  <tbody>\n",
       "    <tr>\n",
       "      <th>0</th>\n",
       "      <td>1393198</td>\n",
       "      <td>2017-07-02</td>\n",
       "      <td>2017-07-02</td>\n",
       "      <td>0</td>\n",
       "    </tr>\n",
       "    <tr>\n",
       "      <th>1</th>\n",
       "      <td>1393198</td>\n",
       "      <td>2017-07-10</td>\n",
       "      <td>2017-07-09</td>\n",
       "      <td>0</td>\n",
       "    </tr>\n",
       "    <tr>\n",
       "      <th>2</th>\n",
       "      <td>1331989</td>\n",
       "      <td>2017-09-19</td>\n",
       "      <td>2017-09-16</td>\n",
       "      <td>1</td>\n",
       "    </tr>\n",
       "    <tr>\n",
       "      <th>3</th>\n",
       "      <td>1331989</td>\n",
       "      <td>2017-09-19</td>\n",
       "      <td>2017-09-17</td>\n",
       "      <td>1</td>\n",
       "    </tr>\n",
       "    <tr>\n",
       "      <th>4</th>\n",
       "      <td>1331989</td>\n",
       "      <td>2017-09-19</td>\n",
       "      <td>2017-09-18</td>\n",
       "      <td>1</td>\n",
       "    </tr>\n",
       "  </tbody>\n",
       "</table>\n",
       "</div>"
      ],
      "text/plain": [
       "      등록번호      낙상발생일시        평가일자 욕창_행동\n",
       "0  1393198  2017-07-02  2017-07-02     0\n",
       "1  1393198  2017-07-10  2017-07-09     0\n",
       "2  1331989  2017-09-19  2017-09-16     1\n",
       "3  1331989  2017-09-19  2017-09-17     1\n",
       "4  1331989  2017-09-19  2017-09-18     1"
      ]
     },
     "execution_count": 18,
     "metadata": {},
     "output_type": "execute_result"
    }
   ],
   "source": [
    "new_patient_list = []\n",
    "new_date_list = []\n",
    "fall_date_list = []\n",
    "adl_detail = []\n",
    "\n",
    "for i in adl_detail_act:\n",
    "    patient = i.split('/')[0]\n",
    "    fall_= i.split('/')[1]\n",
    "    dates = i.split('/')[2]\n",
    "    adl_ = i.split('/')[-1]\n",
    "    new_patient_list.append(patient)\n",
    "    new_date_list.append(dates)\n",
    "    fall_date_list.append(fall_)\n",
    "    adl_detail.append(adl_)\n",
    "    \n",
    "act_df = pd.DataFrame({'등록번호':new_patient_list, '낙상발생일시':fall_date_list, '평가일자':new_date_list, '욕창_행동':adl_detail})\n",
    "print(act_df.shape)\n",
    "act_df.head()"
   ]
  },
  {
   "cell_type": "code",
   "execution_count": 19,
   "metadata": {},
   "outputs": [
    {
     "name": "stdout",
     "output_type": "stream",
     "text": [
      "(72, 4)\n"
     ]
    },
    {
     "data": {
      "text/html": [
       "<div>\n",
       "<style scoped>\n",
       "    .dataframe tbody tr th:only-of-type {\n",
       "        vertical-align: middle;\n",
       "    }\n",
       "\n",
       "    .dataframe tbody tr th {\n",
       "        vertical-align: top;\n",
       "    }\n",
       "\n",
       "    .dataframe thead th {\n",
       "        text-align: right;\n",
       "    }\n",
       "</style>\n",
       "<table border=\"1\" class=\"dataframe\">\n",
       "  <thead>\n",
       "    <tr style=\"text-align: right;\">\n",
       "      <th></th>\n",
       "      <th>등록번호</th>\n",
       "      <th>낙상발생일시</th>\n",
       "      <th>평가일자</th>\n",
       "      <th>욕창_영양</th>\n",
       "    </tr>\n",
       "  </thead>\n",
       "  <tbody>\n",
       "    <tr>\n",
       "      <th>0</th>\n",
       "      <td>1393198</td>\n",
       "      <td>2017-07-02</td>\n",
       "      <td>2017-07-02</td>\n",
       "      <td>1</td>\n",
       "    </tr>\n",
       "    <tr>\n",
       "      <th>1</th>\n",
       "      <td>1393198</td>\n",
       "      <td>2017-07-10</td>\n",
       "      <td>2017-07-09</td>\n",
       "      <td>1</td>\n",
       "    </tr>\n",
       "    <tr>\n",
       "      <th>2</th>\n",
       "      <td>1331989</td>\n",
       "      <td>2017-09-19</td>\n",
       "      <td>2017-09-16</td>\n",
       "      <td>0</td>\n",
       "    </tr>\n",
       "    <tr>\n",
       "      <th>3</th>\n",
       "      <td>1331989</td>\n",
       "      <td>2017-09-19</td>\n",
       "      <td>2017-09-17</td>\n",
       "      <td>0</td>\n",
       "    </tr>\n",
       "    <tr>\n",
       "      <th>4</th>\n",
       "      <td>1331989</td>\n",
       "      <td>2017-09-19</td>\n",
       "      <td>2017-09-18</td>\n",
       "      <td>0</td>\n",
       "    </tr>\n",
       "  </tbody>\n",
       "</table>\n",
       "</div>"
      ],
      "text/plain": [
       "      등록번호      낙상발생일시        평가일자 욕창_영양\n",
       "0  1393198  2017-07-02  2017-07-02     1\n",
       "1  1393198  2017-07-10  2017-07-09     1\n",
       "2  1331989  2017-09-19  2017-09-16     0\n",
       "3  1331989  2017-09-19  2017-09-17     0\n",
       "4  1331989  2017-09-19  2017-09-18     0"
      ]
     },
     "execution_count": 19,
     "metadata": {},
     "output_type": "execute_result"
    }
   ],
   "source": [
    "new_patient_list = []\n",
    "new_date_list = []\n",
    "fall_date_list = []\n",
    "adl_detail = []\n",
    "\n",
    "for i in adl_detail_nut:\n",
    "    patient = i.split('/')[0]\n",
    "    fall_= i.split('/')[1]\n",
    "    dates = i.split('/')[2]\n",
    "    adl_ = i.split('/')[-1]\n",
    "    new_patient_list.append(patient)\n",
    "    new_date_list.append(dates)\n",
    "    fall_date_list.append(fall_)\n",
    "    adl_detail.append(adl_)\n",
    "    \n",
    "nut_df = pd.DataFrame({'등록번호':new_patient_list, '낙상발생일시':fall_date_list, '평가일자':new_date_list, '욕창_영양':adl_detail})\n",
    "print(nut_df.shape)\n",
    "nut_df.head()"
   ]
  },
  {
   "cell_type": "code",
   "execution_count": 20,
   "metadata": {},
   "outputs": [
    {
     "name": "stdout",
     "output_type": "stream",
     "text": [
      "(72, 4)\n"
     ]
    },
    {
     "data": {
      "text/html": [
       "<div>\n",
       "<style scoped>\n",
       "    .dataframe tbody tr th:only-of-type {\n",
       "        vertical-align: middle;\n",
       "    }\n",
       "\n",
       "    .dataframe tbody tr th {\n",
       "        vertical-align: top;\n",
       "    }\n",
       "\n",
       "    .dataframe thead th {\n",
       "        text-align: right;\n",
       "    }\n",
       "</style>\n",
       "<table border=\"1\" class=\"dataframe\">\n",
       "  <thead>\n",
       "    <tr style=\"text-align: right;\">\n",
       "      <th></th>\n",
       "      <th>등록번호</th>\n",
       "      <th>낙상발생일시</th>\n",
       "      <th>평가일자</th>\n",
       "      <th>욕창_기동력</th>\n",
       "    </tr>\n",
       "  </thead>\n",
       "  <tbody>\n",
       "    <tr>\n",
       "      <th>0</th>\n",
       "      <td>1393198</td>\n",
       "      <td>2017-07-02</td>\n",
       "      <td>2017-07-02</td>\n",
       "      <td>0</td>\n",
       "    </tr>\n",
       "    <tr>\n",
       "      <th>1</th>\n",
       "      <td>1393198</td>\n",
       "      <td>2017-07-10</td>\n",
       "      <td>2017-07-09</td>\n",
       "      <td>0</td>\n",
       "    </tr>\n",
       "    <tr>\n",
       "      <th>2</th>\n",
       "      <td>1331989</td>\n",
       "      <td>2017-09-19</td>\n",
       "      <td>2017-09-16</td>\n",
       "      <td>1</td>\n",
       "    </tr>\n",
       "    <tr>\n",
       "      <th>3</th>\n",
       "      <td>1331989</td>\n",
       "      <td>2017-09-19</td>\n",
       "      <td>2017-09-17</td>\n",
       "      <td>1</td>\n",
       "    </tr>\n",
       "    <tr>\n",
       "      <th>4</th>\n",
       "      <td>1331989</td>\n",
       "      <td>2017-09-19</td>\n",
       "      <td>2017-09-18</td>\n",
       "      <td>1</td>\n",
       "    </tr>\n",
       "  </tbody>\n",
       "</table>\n",
       "</div>"
      ],
      "text/plain": [
       "      등록번호      낙상발생일시        평가일자 욕창_기동력\n",
       "0  1393198  2017-07-02  2017-07-02      0\n",
       "1  1393198  2017-07-10  2017-07-09      0\n",
       "2  1331989  2017-09-19  2017-09-16      1\n",
       "3  1331989  2017-09-19  2017-09-17      1\n",
       "4  1331989  2017-09-19  2017-09-18      1"
      ]
     },
     "execution_count": 20,
     "metadata": {},
     "output_type": "execute_result"
    }
   ],
   "source": [
    "new_patient_list = []\n",
    "new_date_list = []\n",
    "fall_date_list = []\n",
    "adl_detail = []\n",
    "\n",
    "for i in adl_detail_mov:\n",
    "    patient = i.split('/')[0]\n",
    "    fall_= i.split('/')[1]\n",
    "    dates = i.split('/')[2]\n",
    "    adl_ = i.split('/')[-1]\n",
    "    new_patient_list.append(patient)\n",
    "    new_date_list.append(dates)\n",
    "    fall_date_list.append(fall_)\n",
    "    adl_detail.append(adl_)\n",
    "    \n",
    "mov_df = pd.DataFrame({'등록번호':new_patient_list, '낙상발생일시':fall_date_list, '평가일자':new_date_list, '욕창_기동력':adl_detail})\n",
    "print(mov_df.shape)\n",
    "mov_df.head()"
   ]
  },
  {
   "cell_type": "code",
   "execution_count": 21,
   "metadata": {},
   "outputs": [
    {
     "data": {
      "text/plain": [
       "47"
      ]
     },
     "execution_count": 21,
     "metadata": {},
     "output_type": "execute_result"
    }
   ],
   "source": [
    "act_nut_patient = act_df.merge(nut_df, on=['등록번호', '낙상발생일시','평가일자'], how='outer')\n",
    "act_nut_move_patient = act_nut_patient.merge(mov_df, on=['등록번호', '낙상발생일시','평가일자'], how='outer')\n",
    "len(act_nut_move_patient['등록번호'].unique())"
   ]
  },
  {
   "cell_type": "code",
   "execution_count": 22,
   "metadata": {},
   "outputs": [
    {
     "data": {
      "text/html": [
       "<div>\n",
       "<style scoped>\n",
       "    .dataframe tbody tr th:only-of-type {\n",
       "        vertical-align: middle;\n",
       "    }\n",
       "\n",
       "    .dataframe tbody tr th {\n",
       "        vertical-align: top;\n",
       "    }\n",
       "\n",
       "    .dataframe thead th {\n",
       "        text-align: right;\n",
       "    }\n",
       "</style>\n",
       "<table border=\"1\" class=\"dataframe\">\n",
       "  <thead>\n",
       "    <tr style=\"text-align: right;\">\n",
       "      <th></th>\n",
       "      <th>등록번호</th>\n",
       "      <th>낙상발생일시</th>\n",
       "      <th>평가일자</th>\n",
       "      <th>욕창_행동</th>\n",
       "      <th>욕창_영양</th>\n",
       "      <th>욕창_기동력</th>\n",
       "    </tr>\n",
       "  </thead>\n",
       "  <tbody>\n",
       "    <tr>\n",
       "      <th>0</th>\n",
       "      <td>1393198</td>\n",
       "      <td>2017-07-02</td>\n",
       "      <td>2017-07-02</td>\n",
       "      <td>0</td>\n",
       "      <td>1</td>\n",
       "      <td>0</td>\n",
       "    </tr>\n",
       "    <tr>\n",
       "      <th>1</th>\n",
       "      <td>1393198</td>\n",
       "      <td>2017-07-10</td>\n",
       "      <td>2017-07-09</td>\n",
       "      <td>0</td>\n",
       "      <td>1</td>\n",
       "      <td>0</td>\n",
       "    </tr>\n",
       "    <tr>\n",
       "      <th>2</th>\n",
       "      <td>1331989</td>\n",
       "      <td>2017-09-19</td>\n",
       "      <td>2017-09-16</td>\n",
       "      <td>1</td>\n",
       "      <td>0</td>\n",
       "      <td>1</td>\n",
       "    </tr>\n",
       "    <tr>\n",
       "      <th>3</th>\n",
       "      <td>1331989</td>\n",
       "      <td>2017-09-19</td>\n",
       "      <td>2017-09-17</td>\n",
       "      <td>1</td>\n",
       "      <td>0</td>\n",
       "      <td>1</td>\n",
       "    </tr>\n",
       "    <tr>\n",
       "      <th>4</th>\n",
       "      <td>1331989</td>\n",
       "      <td>2017-09-19</td>\n",
       "      <td>2017-09-18</td>\n",
       "      <td>1</td>\n",
       "      <td>0</td>\n",
       "      <td>1</td>\n",
       "    </tr>\n",
       "    <tr>\n",
       "      <th>...</th>\n",
       "      <td>...</td>\n",
       "      <td>...</td>\n",
       "      <td>...</td>\n",
       "      <td>...</td>\n",
       "      <td>...</td>\n",
       "      <td>...</td>\n",
       "    </tr>\n",
       "    <tr>\n",
       "      <th>67</th>\n",
       "      <td>1323071</td>\n",
       "      <td>2021-09-04</td>\n",
       "      <td>2021-09-03</td>\n",
       "      <td>3</td>\n",
       "      <td>0</td>\n",
       "      <td>2</td>\n",
       "    </tr>\n",
       "    <tr>\n",
       "      <th>68</th>\n",
       "      <td>1323071</td>\n",
       "      <td>2021-09-04</td>\n",
       "      <td>2021-09-04</td>\n",
       "      <td>3</td>\n",
       "      <td>0</td>\n",
       "      <td>2</td>\n",
       "    </tr>\n",
       "    <tr>\n",
       "      <th>69</th>\n",
       "      <td>239823</td>\n",
       "      <td>2021-07-06</td>\n",
       "      <td>2021-07-04</td>\n",
       "      <td>0</td>\n",
       "      <td>0</td>\n",
       "      <td>0</td>\n",
       "    </tr>\n",
       "    <tr>\n",
       "      <th>70</th>\n",
       "      <td>594511</td>\n",
       "      <td>2021-07-10</td>\n",
       "      <td>2021-07-10</td>\n",
       "      <td>0</td>\n",
       "      <td>0</td>\n",
       "      <td>0</td>\n",
       "    </tr>\n",
       "    <tr>\n",
       "      <th>71</th>\n",
       "      <td>860045</td>\n",
       "      <td>2021-07-25</td>\n",
       "      <td>2021-07-25</td>\n",
       "      <td>1</td>\n",
       "      <td>0</td>\n",
       "      <td>1</td>\n",
       "    </tr>\n",
       "  </tbody>\n",
       "</table>\n",
       "<p>72 rows × 6 columns</p>\n",
       "</div>"
      ],
      "text/plain": [
       "       등록번호      낙상발생일시        평가일자 욕창_행동 욕창_영양 욕창_기동력\n",
       "0   1393198  2017-07-02  2017-07-02     0     1      0\n",
       "1   1393198  2017-07-10  2017-07-09     0     1      0\n",
       "2   1331989  2017-09-19  2017-09-16     1     0      1\n",
       "3   1331989  2017-09-19  2017-09-17     1     0      1\n",
       "4   1331989  2017-09-19  2017-09-18     1     0      1\n",
       "..      ...         ...         ...   ...   ...    ...\n",
       "67  1323071  2021-09-04  2021-09-03     3     0      2\n",
       "68  1323071  2021-09-04  2021-09-04     3     0      2\n",
       "69   239823  2021-07-06  2021-07-04     0     0      0\n",
       "70   594511  2021-07-10  2021-07-10     0     0      0\n",
       "71   860045  2021-07-25  2021-07-25     1     0      1\n",
       "\n",
       "[72 rows x 6 columns]"
      ]
     },
     "execution_count": 22,
     "metadata": {},
     "output_type": "execute_result"
    }
   ],
   "source": [
    "act_nut_move_patient"
   ]
  },
  {
   "cell_type": "code",
   "execution_count": 23,
   "metadata": {},
   "outputs": [],
   "source": [
    "act_nut_patient.to_csv('천안_욕창.csv')"
   ]
  },
  {
   "cell_type": "markdown",
   "metadata": {},
   "source": []
  }
 ],
 "metadata": {
  "kernelspec": {
   "display_name": "python_study_3",
   "language": "python",
   "name": "python3"
  },
  "language_info": {
   "codemirror_mode": {
    "name": "ipython",
    "version": 3
   },
   "file_extension": ".py",
   "mimetype": "text/x-python",
   "name": "python",
   "nbconvert_exporter": "python",
   "pygments_lexer": "ipython3",
   "version": "3.8.13"
  },
  "orig_nbformat": 4,
  "vscode": {
   "interpreter": {
    "hash": "c9d2ad4ecc603e49a7c29a3e0c552622d4cf0cd788e32e1ea188f0c1627c1560"
   }
  }
 },
 "nbformat": 4,
 "nbformat_minor": 2
}
