{
 "cells": [
  {
   "cell_type": "code",
   "execution_count": 1,
   "metadata": {},
   "outputs": [],
   "source": [
    "import warnings\n",
    "warnings.filterwarnings('ignore')\n",
    "import pandas as pd"
   ]
  },
  {
   "cell_type": "code",
   "execution_count": 2,
   "metadata": {},
   "outputs": [],
   "source": [
    "# patient list\n",
    "\n",
    "patient_df = pd.read_excel('/Users/yena/Desktop/SCH/척척석사/EMR related/낙상데이터/천안/(천안병원)간호간병통합병동 낙상대상자 리스트(2017-2021.10).xlsx', index_col =0)\n",
    "patient_list = patient_df['등록번호'].astype(str).unique()  # 등록번호 unique -> 228명 확인\n",
    "fall_date = patient_df[['등록번호', '낙상발생일시']]\n",
    "\n",
    "duration=[]\n",
    "\n",
    "for i in fall_date['낙상발생일시'].tolist():\n",
    "    i = str(i)\n",
    "    i = i.split(' ')[0]\n",
    "    duration.append(i)\n",
    "\n",
    "fall_date['낙상발생일시'] = duration\n",
    "\n"
   ]
  },
  {
   "cell_type": "code",
   "execution_count": 3,
   "metadata": {},
   "outputs": [],
   "source": [
    "# str_to_dt 함수\n",
    "\n",
    "import datetime\n",
    "\n",
    "def str_to_dt(x):\n",
    "    x = str(x)\n",
    "    d = int(x[0:4])\n",
    "    y = int(x[4:6])\n",
    "    z = int(x[6:8])\n",
    "    # hours = int(x[8:10])\n",
    "    # mins = int(x[10:12])\n",
    "    # secs = int(x[12:])\n",
    "    # str_data = (d+','+y+','+z+','+hours+','+mins+','+secs)\n",
    "    new_time = datetime.datetime(d,y,z)\n",
    "    new_time_no = new_time.replace(microsecond = 0)\n",
    "    \n",
    "    return new_time_no"
   ]
  },
  {
   "cell_type": "code",
   "execution_count": 4,
   "metadata": {},
   "outputs": [],
   "source": [
    "needs = pd.read_csv('/Users/yena/Desktop/SCH/척척석사/EMR related/낙상데이터/천안/간호필요도_17_21.csv')"
   ]
  },
  {
   "cell_type": "code",
   "execution_count": 5,
   "metadata": {},
   "outputs": [
    {
     "data": {
      "text/html": [
       "<div>\n",
       "<style scoped>\n",
       "    .dataframe tbody tr th:only-of-type {\n",
       "        vertical-align: middle;\n",
       "    }\n",
       "\n",
       "    .dataframe tbody tr th {\n",
       "        vertical-align: top;\n",
       "    }\n",
       "\n",
       "    .dataframe thead th {\n",
       "        text-align: right;\n",
       "    }\n",
       "</style>\n",
       "<table border=\"1\" class=\"dataframe\">\n",
       "  <thead>\n",
       "    <tr style=\"text-align: right;\">\n",
       "      <th></th>\n",
       "      <th>Unnamed: 0</th>\n",
       "      <th>입원일자</th>\n",
       "      <th>등록번호</th>\n",
       "      <th>환자명</th>\n",
       "      <th>도구명</th>\n",
       "      <th>상세내역명</th>\n",
       "      <th>체크</th>\n",
       "      <th>평가일자</th>\n",
       "      <th>평가시간</th>\n",
       "      <th>도구구분</th>\n",
       "      <th>성별</th>\n",
       "      <th>나이</th>\n",
       "      <th>진료과</th>\n",
       "      <th>병동</th>\n",
       "    </tr>\n",
       "  </thead>\n",
       "  <tbody>\n",
       "    <tr>\n",
       "      <th>0</th>\n",
       "      <td>0</td>\n",
       "      <td>20170625.0</td>\n",
       "      <td>57121</td>\n",
       "      <td>김문오</td>\n",
       "      <td>ADL_체위변경</td>\n",
       "      <td>도움없음(침대에서 뒤척임을 환자 스스로 할 수 있는 경우)</td>\n",
       "      <td>Y</td>\n",
       "      <td>20170701</td>\n",
       "      <td>800</td>\n",
       "      <td>간호필요도</td>\n",
       "      <td>M</td>\n",
       "      <td>64</td>\n",
       "      <td>MH</td>\n",
       "      <td>BA03B</td>\n",
       "    </tr>\n",
       "    <tr>\n",
       "      <th>1</th>\n",
       "      <td>1</td>\n",
       "      <td>20170625.0</td>\n",
       "      <td>57121</td>\n",
       "      <td>김문오</td>\n",
       "      <td>전문치료 시행</td>\n",
       "      <td>7개중 1개 이상/1일(마약성주사, 항암치료, 승압제, 항부정맥제, 면역억제제, 항...</td>\n",
       "      <td>Y</td>\n",
       "      <td>20170701</td>\n",
       "      <td>800</td>\n",
       "      <td>간호필요도</td>\n",
       "      <td>M</td>\n",
       "      <td>64</td>\n",
       "      <td>MH</td>\n",
       "      <td>BA03B</td>\n",
       "    </tr>\n",
       "    <tr>\n",
       "      <th>2</th>\n",
       "      <td>2</td>\n",
       "      <td>20170625.0</td>\n",
       "      <td>57121</td>\n",
       "      <td>김문오</td>\n",
       "      <td>ADL_식사섭취</td>\n",
       "      <td>일부도움(필요에 따라 식사 섭취 행위의 일부에 도움을 주는 경우, 식탁에서 먹기 편...</td>\n",
       "      <td>Y</td>\n",
       "      <td>20170701</td>\n",
       "      <td>800</td>\n",
       "      <td>간호필요도</td>\n",
       "      <td>M</td>\n",
       "      <td>64</td>\n",
       "      <td>MH</td>\n",
       "      <td>BA03B</td>\n",
       "    </tr>\n",
       "  </tbody>\n",
       "</table>\n",
       "</div>"
      ],
      "text/plain": [
       "   Unnamed: 0        입원일자   등록번호  환자명       도구명  \\\n",
       "0           0  20170625.0  57121  김문오  ADL_체위변경   \n",
       "1           1  20170625.0  57121  김문오   전문치료 시행   \n",
       "2           2  20170625.0  57121  김문오  ADL_식사섭취   \n",
       "\n",
       "                                               상세내역명 체크      평가일자  평가시간  \\\n",
       "0                   도움없음(침대에서 뒤척임을 환자 스스로 할 수 있는 경우)  Y  20170701   800   \n",
       "1  7개중 1개 이상/1일(마약성주사, 항암치료, 승압제, 항부정맥제, 면역억제제, 항...  Y  20170701   800   \n",
       "2  일부도움(필요에 따라 식사 섭취 행위의 일부에 도움을 주는 경우, 식탁에서 먹기 편...  Y  20170701   800   \n",
       "\n",
       "    도구구분 성별  나이 진료과     병동  \n",
       "0  간호필요도  M  64  MH  BA03B  \n",
       "1  간호필요도  M  64  MH  BA03B  \n",
       "2  간호필요도  M  64  MH  BA03B  "
      ]
     },
     "execution_count": 5,
     "metadata": {},
     "output_type": "execute_result"
    }
   ],
   "source": [
    "needs.head(3)"
   ]
  },
  {
   "cell_type": "code",
   "execution_count": 6,
   "metadata": {},
   "outputs": [
    {
     "data": {
      "text/plain": [
       "12052"
      ]
     },
     "execution_count": 6,
     "metadata": {},
     "output_type": "execute_result"
    }
   ],
   "source": [
    "len(needs['등록번호'].unique())"
   ]
  },
  {
   "cell_type": "code",
   "execution_count": 7,
   "metadata": {},
   "outputs": [
    {
     "name": "stdout",
     "output_type": "stream",
     "text": [
      "(67922, 4)\n",
      "70\n"
     ]
    },
    {
     "data": {
      "text/html": [
       "<div>\n",
       "<style scoped>\n",
       "    .dataframe tbody tr th:only-of-type {\n",
       "        vertical-align: middle;\n",
       "    }\n",
       "\n",
       "    .dataframe tbody tr th {\n",
       "        vertical-align: top;\n",
       "    }\n",
       "\n",
       "    .dataframe thead th {\n",
       "        text-align: right;\n",
       "    }\n",
       "</style>\n",
       "<table border=\"1\" class=\"dataframe\">\n",
       "  <thead>\n",
       "    <tr style=\"text-align: right;\">\n",
       "      <th></th>\n",
       "      <th>등록번호</th>\n",
       "      <th>도구명</th>\n",
       "      <th>상세내역명</th>\n",
       "      <th>평가일자</th>\n",
       "    </tr>\n",
       "  </thead>\n",
       "  <tbody>\n",
       "    <tr>\n",
       "      <th>465</th>\n",
       "      <td>1393198</td>\n",
       "      <td>V/S측정</td>\n",
       "      <td>1~6회이상/1일</td>\n",
       "      <td>2017-07-01</td>\n",
       "    </tr>\n",
       "    <tr>\n",
       "      <th>466</th>\n",
       "      <td>1393198</td>\n",
       "      <td>병실종류</td>\n",
       "      <td>6인실</td>\n",
       "      <td>2017-07-01</td>\n",
       "    </tr>\n",
       "    <tr>\n",
       "      <th>467</th>\n",
       "      <td>1393198</td>\n",
       "      <td>수술여부</td>\n",
       "      <td>수술미실시</td>\n",
       "      <td>2017-07-01</td>\n",
       "    </tr>\n",
       "  </tbody>\n",
       "</table>\n",
       "</div>"
      ],
      "text/plain": [
       "        등록번호    도구명      상세내역명       평가일자\n",
       "465  1393198  V/S측정  1~6회이상/1일 2017-07-01\n",
       "466  1393198   병실종류        6인실 2017-07-01\n",
       "467  1393198   수술여부      수술미실시 2017-07-01"
      ]
     },
     "execution_count": 7,
     "metadata": {},
     "output_type": "execute_result"
    }
   ],
   "source": [
    "needs = needs[['등록번호', '도구명', '상세내역명', '평가일자']]\n",
    "needs['등록번호'] = needs['등록번호'].astype(str)\n",
    "needs = needs[needs['등록번호'].isin(set(patient_list))]\n",
    "needs['평가일자'] = needs['평가일자'].apply(str_to_dt)\n",
    "print(needs.shape)\n",
    "print(len(needs['등록번호'].unique()))\n",
    "needs.head(3)"
   ]
  },
  {
   "cell_type": "code",
   "execution_count": 8,
   "metadata": {},
   "outputs": [
    {
     "name": "stdout",
     "output_type": "stream",
     "text": [
      "(20268, 4)\n",
      "70\n"
     ]
    }
   ],
   "source": [
    "needs['도구명'] = needs['도구명'].replace({'ADL_배변':'ADL_배뇨, 배변'})\n",
    "needs['도구명'] = needs['도구명'].replace({'흡인간호(기관 내)':'호흡 간호_비침습적 산소 투여'})\n",
    "needs['도구명'] = needs['도구명'].replace({'ADL_이동':'ADL_침상 밖으로 이동'})\n",
    "\n",
    "tools=['ADL_배뇨, 배변','호흡 간호_비침습적 산소 투여', 'ADL_체위변경', 'ADL_침상 밖으로 이동', 'ADL_식사섭취', '위험행동관리', '전문치료 시행']\n",
    "needs = needs[needs['도구명'].isin(set(tools))]\n",
    "\n",
    "needs= needs.drop_duplicates()\n",
    "print(needs.shape)\n",
    "print(len(needs['등록번호'].unique()))"
   ]
  },
  {
   "cell_type": "code",
   "execution_count": 9,
   "metadata": {},
   "outputs": [],
   "source": [
    "fall_date = patient_df[['등록번호', '낙상발생일시']]   "
   ]
  },
  {
   "cell_type": "code",
   "execution_count": 10,
   "metadata": {},
   "outputs": [
    {
     "name": "stdout",
     "output_type": "stream",
     "text": [
      "70\n"
     ]
    }
   ],
   "source": [
    "fall_date['등록번호'] = fall_date['등록번호'].astype(str)\n",
    "needs = needs.merge(fall_date, on=['등록번호'], how='inner')\n",
    "print(len(needs['등록번호'].unique()))"
   ]
  },
  {
   "cell_type": "code",
   "execution_count": 11,
   "metadata": {},
   "outputs": [
    {
     "name": "stdout",
     "output_type": "stream",
     "text": [
      "<class 'pandas.core.frame.DataFrame'>\n",
      "Int64Index: 21624 entries, 0 to 21623\n",
      "Data columns (total 5 columns):\n",
      " #   Column  Non-Null Count  Dtype         \n",
      "---  ------  --------------  -----         \n",
      " 0   등록번호    21624 non-null  object        \n",
      " 1   도구명     21624 non-null  object        \n",
      " 2   상세내역명   21624 non-null  object        \n",
      " 3   평가일자    21624 non-null  datetime64[ns]\n",
      " 4   낙상발생일시  21624 non-null  datetime64[ns]\n",
      "dtypes: datetime64[ns](2), object(3)\n",
      "memory usage: 1013.6+ KB\n"
     ]
    }
   ],
   "source": [
    "needs.info()"
   ]
  },
  {
   "cell_type": "code",
   "execution_count": 12,
   "metadata": {},
   "outputs": [],
   "source": [
    "def str_clean(x):\n",
    "    x = str(x)\n",
    "    x = x.replace('-','')\n",
    "    x = str_to_dt(x)\n",
    "\n",
    "    return x"
   ]
  },
  {
   "cell_type": "code",
   "execution_count": 13,
   "metadata": {},
   "outputs": [],
   "source": [
    "needs['낙상발생일시'] = needs['낙상발생일시'].apply(str_clean)\n",
    "needs['평가일자'] = needs['평가일자'].apply(str_clean)"
   ]
  },
  {
   "cell_type": "code",
   "execution_count": 14,
   "metadata": {},
   "outputs": [
    {
     "name": "stdout",
     "output_type": "stream",
     "text": [
      "60\n"
     ]
    }
   ],
   "source": [
    "needs['유무'] = needs['낙상발생일시']-needs['평가일자']\n",
    "needs['유무'] = needs['유무'].astype(str)\n",
    "cond = ['0 days', '1 days', '2 days', '3 days']\n",
    "needs = needs[needs['유무'].isin(set(cond))]\n",
    "print(len(needs['등록번호'].unique()))"
   ]
  },
  {
   "cell_type": "code",
   "execution_count": 15,
   "metadata": {},
   "outputs": [
    {
     "data": {
      "text/html": [
       "<div>\n",
       "<style scoped>\n",
       "    .dataframe tbody tr th:only-of-type {\n",
       "        vertical-align: middle;\n",
       "    }\n",
       "\n",
       "    .dataframe tbody tr th {\n",
       "        vertical-align: top;\n",
       "    }\n",
       "\n",
       "    .dataframe thead th {\n",
       "        text-align: right;\n",
       "    }\n",
       "</style>\n",
       "<table border=\"1\" class=\"dataframe\">\n",
       "  <thead>\n",
       "    <tr style=\"text-align: right;\">\n",
       "      <th></th>\n",
       "      <th>등록번호</th>\n",
       "      <th>도구명</th>\n",
       "      <th>상세내역명</th>\n",
       "      <th>평가일자</th>\n",
       "      <th>낙상발생일시</th>\n",
       "      <th>유무</th>\n",
       "    </tr>\n",
       "  </thead>\n",
       "  <tbody>\n",
       "    <tr>\n",
       "      <th>0</th>\n",
       "      <td>1393198</td>\n",
       "      <td>ADL_배뇨, 배변</td>\n",
       "      <td>도움없음(배변을 위한 일련의 행위 모두를 스스로 할 수 있는 경우)</td>\n",
       "      <td>2017-07-01</td>\n",
       "      <td>2017-07-02</td>\n",
       "      <td>1 days</td>\n",
       "    </tr>\n",
       "    <tr>\n",
       "      <th>3</th>\n",
       "      <td>1393198</td>\n",
       "      <td>ADL_식사섭취</td>\n",
       "      <td>일부도움(필요에 따라 식사 섭취 행위의 일부에 도움을 주는 경우, 식탁에서 먹기 편...</td>\n",
       "      <td>2017-07-01</td>\n",
       "      <td>2017-07-02</td>\n",
       "      <td>1 days</td>\n",
       "    </tr>\n",
       "    <tr>\n",
       "      <th>6</th>\n",
       "      <td>1393198</td>\n",
       "      <td>ADL_침상 밖으로 이동</td>\n",
       "      <td>도움없음(도움없이 이동할 수 있는 경우, 기어서라도 이동을 스스로 할 수 있는경우도...</td>\n",
       "      <td>2017-07-01</td>\n",
       "      <td>2017-07-02</td>\n",
       "      <td>1 days</td>\n",
       "    </tr>\n",
       "    <tr>\n",
       "      <th>9</th>\n",
       "      <td>1393198</td>\n",
       "      <td>ADL_체위변경</td>\n",
       "      <td>도움없음(침대에서 뒤척임을 환자 스스로 할 수 있는 경우)</td>\n",
       "      <td>2017-07-01</td>\n",
       "      <td>2017-07-02</td>\n",
       "      <td>1 days</td>\n",
       "    </tr>\n",
       "    <tr>\n",
       "      <th>12</th>\n",
       "      <td>1393198</td>\n",
       "      <td>전문치료 시행</td>\n",
       "      <td>7개중 1개 이상/1일(마약성주사, 항암치료, 승압제, 항부정맥제, 면역억제제, 항...</td>\n",
       "      <td>2017-07-01</td>\n",
       "      <td>2017-07-02</td>\n",
       "      <td>1 days</td>\n",
       "    </tr>\n",
       "    <tr>\n",
       "      <th>...</th>\n",
       "      <td>...</td>\n",
       "      <td>...</td>\n",
       "      <td>...</td>\n",
       "      <td>...</td>\n",
       "      <td>...</td>\n",
       "      <td>...</td>\n",
       "    </tr>\n",
       "    <tr>\n",
       "      <th>21607</th>\n",
       "      <td>860045</td>\n",
       "      <td>ADL_식사섭취</td>\n",
       "      <td>도움 없음(도움, 관찰 없이 스스로 식사 가능한 경우, 보조기구 이용 스스로 식사 ...</td>\n",
       "      <td>2021-07-25</td>\n",
       "      <td>2021-07-25</td>\n",
       "      <td>0 days</td>\n",
       "    </tr>\n",
       "    <tr>\n",
       "      <th>21608</th>\n",
       "      <td>860045</td>\n",
       "      <td>ADL_배뇨, 배변</td>\n",
       "      <td>일부 도움(도움 없이 배변, 배뇨를 위한 일련의 행위를 하는데 어려움이 있어 간호직...</td>\n",
       "      <td>2021-07-25</td>\n",
       "      <td>2021-07-25</td>\n",
       "      <td>0 days</td>\n",
       "    </tr>\n",
       "    <tr>\n",
       "      <th>21609</th>\n",
       "      <td>860045</td>\n",
       "      <td>호흡 간호_비침습적 산소 투여</td>\n",
       "      <td>해당없음(ex.비침습적 양압환기 및 가온 가습 고유량 비강캐뉼라 요법)</td>\n",
       "      <td>2021-07-25</td>\n",
       "      <td>2021-07-25</td>\n",
       "      <td>0 days</td>\n",
       "    </tr>\n",
       "    <tr>\n",
       "      <th>21610</th>\n",
       "      <td>860045</td>\n",
       "      <td>ADL_체위변경</td>\n",
       "      <td>도움없음(도움 없이 스스로 변경 가능, 한쪽으로만 변경이 가능해도 됨, 침대 난간,...</td>\n",
       "      <td>2021-07-25</td>\n",
       "      <td>2021-07-25</td>\n",
       "      <td>0 days</td>\n",
       "    </tr>\n",
       "    <tr>\n",
       "      <th>21611</th>\n",
       "      <td>860045</td>\n",
       "      <td>위험행동관리</td>\n",
       "      <td>해당없음</td>\n",
       "      <td>2021-07-25</td>\n",
       "      <td>2021-07-25</td>\n",
       "      <td>0 days</td>\n",
       "    </tr>\n",
       "  </tbody>\n",
       "</table>\n",
       "<p>1302 rows × 6 columns</p>\n",
       "</div>"
      ],
      "text/plain": [
       "          등록번호               도구명  \\\n",
       "0      1393198        ADL_배뇨, 배변   \n",
       "3      1393198          ADL_식사섭취   \n",
       "6      1393198     ADL_침상 밖으로 이동   \n",
       "9      1393198          ADL_체위변경   \n",
       "12     1393198           전문치료 시행   \n",
       "...        ...               ...   \n",
       "21607   860045          ADL_식사섭취   \n",
       "21608   860045        ADL_배뇨, 배변   \n",
       "21609   860045  호흡 간호_비침습적 산소 투여   \n",
       "21610   860045          ADL_체위변경   \n",
       "21611   860045            위험행동관리   \n",
       "\n",
       "                                                   상세내역명       평가일자  \\\n",
       "0                  도움없음(배변을 위한 일련의 행위 모두를 스스로 할 수 있는 경우) 2017-07-01   \n",
       "3      일부도움(필요에 따라 식사 섭취 행위의 일부에 도움을 주는 경우, 식탁에서 먹기 편... 2017-07-01   \n",
       "6      도움없음(도움없이 이동할 수 있는 경우, 기어서라도 이동을 스스로 할 수 있는경우도... 2017-07-01   \n",
       "9                       도움없음(침대에서 뒤척임을 환자 스스로 할 수 있는 경우) 2017-07-01   \n",
       "12     7개중 1개 이상/1일(마약성주사, 항암치료, 승압제, 항부정맥제, 면역억제제, 항... 2017-07-01   \n",
       "...                                                  ...        ...   \n",
       "21607  도움 없음(도움, 관찰 없이 스스로 식사 가능한 경우, 보조기구 이용 스스로 식사 ... 2021-07-25   \n",
       "21608  일부 도움(도움 없이 배변, 배뇨를 위한 일련의 행위를 하는데 어려움이 있어 간호직... 2021-07-25   \n",
       "21609            해당없음(ex.비침습적 양압환기 및 가온 가습 고유량 비강캐뉼라 요법) 2021-07-25   \n",
       "21610  도움없음(도움 없이 스스로 변경 가능, 한쪽으로만 변경이 가능해도 됨, 침대 난간,... 2021-07-25   \n",
       "21611                                               해당없음 2021-07-25   \n",
       "\n",
       "          낙상발생일시      유무  \n",
       "0     2017-07-02  1 days  \n",
       "3     2017-07-02  1 days  \n",
       "6     2017-07-02  1 days  \n",
       "9     2017-07-02  1 days  \n",
       "12    2017-07-02  1 days  \n",
       "...          ...     ...  \n",
       "21607 2021-07-25  0 days  \n",
       "21608 2021-07-25  0 days  \n",
       "21609 2021-07-25  0 days  \n",
       "21610 2021-07-25  0 days  \n",
       "21611 2021-07-25  0 days  \n",
       "\n",
       "[1302 rows x 6 columns]"
      ]
     },
     "execution_count": 15,
     "metadata": {},
     "output_type": "execute_result"
    }
   ],
   "source": [
    "needs"
   ]
  },
  {
   "cell_type": "code",
   "execution_count": 16,
   "metadata": {},
   "outputs": [
    {
     "data": {
      "text/plain": [
       "0 days    378\n",
       "1 days    354\n",
       "2 days    300\n",
       "3 days    270\n",
       "Name: 유무, dtype: int64"
      ]
     },
     "execution_count": 16,
     "metadata": {},
     "output_type": "execute_result"
    }
   ],
   "source": [
    "needs['유무'].value_counts()"
   ]
  },
  {
   "cell_type": "code",
   "execution_count": 17,
   "metadata": {},
   "outputs": [
    {
     "name": "stdout",
     "output_type": "stream",
     "text": [
      "1302\n",
      "1302\n"
     ]
    }
   ],
   "source": [
    "new_danger = []\n",
    "new_tools = []\n",
    "for num, i in enumerate(needs['도구명'].tolist()):\n",
    "    new_tools.append(i)\n",
    "    if needs['도구명'].tolist()[num]=='위험행동관리':\n",
    "        detail_str = '위험 '+needs['상세내역명'].tolist()[num]\n",
    "        new_danger.append(detail_str)\n",
    "    else:\n",
    "        new_danger.append(needs['상세내역명'].tolist()[num])\n",
    "\n",
    "print(len(new_danger))\n",
    "print(len(new_tools))\n",
    "\n",
    "needs['도구명'] = new_tools\n",
    "needs['상세내역명'] = new_danger"
   ]
  },
  {
   "cell_type": "code",
   "execution_count": 18,
   "metadata": {},
   "outputs": [],
   "source": [
    "test = needs.copy()\n",
    "test['agg'] = test['등록번호'].astype(str)+'_'+ test['평가일자'].astype(str)+'_'+test['상세내역명']"
   ]
  },
  {
   "cell_type": "code",
   "execution_count": 19,
   "metadata": {},
   "outputs": [
    {
     "name": "stderr",
     "output_type": "stream",
     "text": [
      "1302it [00:00, 460725.88it/s]\n"
     ]
    }
   ],
   "source": [
    "from tqdm import tqdm   # 작업 진행률 표시\n",
    "\n",
    "ADL_uri = []\n",
    "ADL_resp = []\n",
    "ADL_pos = []\n",
    "ADL_outbed =[]\n",
    "ADL_meal=[]\n",
    "\n",
    "ADL_spe = [] ## 전문치료실행\n",
    "ADL_danger = []\n",
    "\n",
    "# ADL_oral_drug = []\n",
    "# ADL_immune = []\n",
    "# ADL_pres = [] ##승압제\n",
    "# ADL_antipres = [] ##항부정\n",
    "# ADL_oral_can = [] ## 항암\n",
    "# ADL_cancer = [] ##항암주사\n",
    "# ADL_clog = [] ## 혈전\n",
    "\n",
    "\n",
    "\n",
    "new_patient_list = []\n",
    "new_date_list = []\n",
    "\n",
    "for num, i in tqdm(enumerate(test['agg'].tolist())):\n",
    "    patient = i.split('_')[0]\n",
    "    new_patient_list.append(patient)\n",
    "    date = i.split('_')[1]\n",
    "    new_date_list.append(date)\n",
    "    detail = i.split('_')[2]\n",
    "  \n",
    "    ## 배뇨배변 ###\n",
    "    if detail ==\"도움 없음(도움 없이 배변, 배뇨를 위한 일련의 행위, 장루관리를 스스로 할 수 있는 경우, 관장하는 경우)\":\n",
    "        detail_input = patient+'_'+date+'_'+'0'\n",
    "        ADL_uri.append(detail_input)\n",
    "    elif detail ==\"도움없음(배변을 위한 일련의 행위 모두를 스스로 할 수 있는 경우)\":\n",
    "        detail_input = patient+'_'+date+'_'+'0'\n",
    "        ADL_uri.append(detail_input)\n",
    "    elif detail == '일부 도움(도움 없이 배변, 배뇨를 위한 일련의 행위를 하는데 어려움이 있어 간호직원 등의 일부 도움이 반드시 필요한 경우,  정서장애, 인지장애, 혈압조절장애 등으로 인하여 배변, 배뇨를 하는 동안 반드시 누군가 곁에서 관찰, 감독이 필요한 경우, Foley-catheter 적용중인 경우)(nelaton catheter제외)':\n",
    "        detail_input = patient+'_'+date+'_'+'1'\n",
    "        ADL_uri.append(detail_input)\n",
    "    elif detail == '일부도움(배변을 위한 일련의 행위에 일부 도움이 행해지는 경우)':\n",
    "        detail_input = patient+'_'+date+'_'+'1'\n",
    "        ADL_uri.append(detail_input)\n",
    "    elif detail =='전부 도움(스스로 배변 배뇨를 위한 일련의 행위 모두를 전혀 할 수 없어 간호 직원 등에 의해 전적인 도움 필요, 기저귀 착용,장루관리를 간호직원이 하는 경우)':\n",
    "        detail_input = patient+'_'+date+'_'+'2'\n",
    "        ADL_uri.append(detail_input)\n",
    "    elif detail =='전부도움(배변을 위한 일련의 행위에 전부 도움이 행해지는 경우, 활동에 제한이 있어 기저귀를 적용한 환자 모두 포함)':\n",
    "        detail_input = patient+'_'+date+'_'+'2'\n",
    "        ADL_uri.append(detail_input)\n",
    "\n",
    "    ### 식사섭취###\n",
    "    if detail == '도움 없음(도움, 관찰 없이 스스로 식사 가능한 경우, 보조기구 이용 스스로 식사 가능한 경우, NPO, TPN 등의 사유로 식사하는 행위가 미발생 하는 경우)':\n",
    "        detail_input = patient+'_'+date+'_'+'0'\n",
    "        ADL_meal.append(detail_input)\n",
    "    elif detail == '도움없음(도움, 지켜보는 것 없이 스스로 식사를 할 수 있는 경우, 젓가락, 숟가락 이외의 다른 보조기구등을 사용하는 경우, 식사중지, 단식의 경우)':\n",
    "        detail_input = patient+'_'+date+'_'+'0'\n",
    "        ADL_meal.append(detail_input)\n",
    "    elif detail == '일부 도움(간단한 식사도구는 스스로 다룰 수 있으나 작게 자르기, 껍질 벗기기, 생선 바르기 등을 스스로 할 수 없어 간호직원 등의 도움이 필요한 경우,  흡인( aspiration) 과거력, 인지장애, 연하곤란(dysphagia) 등으로 인하여 식사하는 동안 반드시 누군가 곁에서 관찰, 감독이 필요한 경우) ':\n",
    "        detail_input = patient+'_'+date+'_'+'1'\n",
    "        ADL_meal.append(detail_input)\n",
    "    elif detail == '일부도움(필요에 따라 식사 섭취 행위의 일부에 도움을 주는 경우, 식탁에서 먹기 편하도록 배려하는 행위가 이루어 지고 있는 경우, 식사 중 한 가지라도 도움을 주는 경우, 지켜보며 지시가 필요한 경우)':\n",
    "        detail_input = patient+'_'+date+'_'+'1'\n",
    "        ADL_meal.append(detail_input)\n",
    "    elif detail == '전부 도움(혼자서는 식사를 전혀 할 수 없어 간호직원 등에 의해 모든 과정에서 전적인 도움(스푼 피딩)을 받아야 함)':\n",
    "        detail_input = patient+'_'+date+'_'+'2'\n",
    "        ADL_meal.append(detail_input)\n",
    "    elif detail == '전부도움(스스로는 전혀 먹을 수 없고 모든 것에 도움이 필요한 경우, 식사 시작부터 끝까지 모든 도움이 필요한 경우)':\n",
    "        detail_input = patient+'_'+date+'_'+'2'\n",
    "        ADL_meal.append(detail_input)\n",
    "         \n",
    "\n",
    "    ### 체위변경 ###\n",
    "    if detail =='도움없음(도움 없이 스스로 변경 가능, 한쪽으로만 변경이 가능해도 됨, 침대 난간, 끈, 바, 사이드 레일 등을 사용하는 경우)':\n",
    "        detail_input = patient+'_'+date+'_'+'0'\n",
    "        ADL_pos.append(detail_input)\n",
    "    elif detail =='도움없음(침대에서 뒤척임을 환자 스스로 할 수 있는 경우)':\n",
    "        detail_input = patient+'_'+date+'_'+'0'\n",
    "        ADL_pos.append(detail_input)\n",
    "    elif detail =='일부 도움(스스로 체위 변경을 하는데 어려움이 있어 간호 직원 등이 팔 또는 몸의 일부를 지지하는 도움이 반드시 필요, 환자가 스스로 할 수 있으나, 간호직원 등이 도움을 주는 경우 제외)':\n",
    "        detail_input = patient+'_'+date+'_'+'1'\n",
    "        ADL_pos.append(detail_input)\n",
    "    elif detail =='일부도움(침대 난간, 끈, 바, 사이드레일 등을 잡으면 혼자서 침대에서 뒤척임을 할 수 있는 경우)':\n",
    "        detail_input = patient+'_'+date+'_'+'1'\n",
    "        ADL_pos.append(detail_input)\n",
    "    elif detail ==\"전부 도움(체위 변경을 혼자서는 전혀 할 수 없어 간호 직원 등에 의해 모든 과정에서 전적인 도움을 받아야 함)\":\n",
    "        detail_input = patient+'_'+date+'_'+'2'\n",
    "        ADL_pos.append(detail_input)\n",
    "    elif detail ==\"전부도움(침대에서 뒤척이는데 도움이 필요한 경우)\":\n",
    "        detail_input = patient+'_'+date+'_'+'2'\n",
    "        ADL_pos.append(detail_input)\n",
    "\n",
    "    ### 호흡 ###\n",
    "    if detail =='해당없음(ex.비침습적 양압환기 및 가온 가습 고유량 비강캐뉼라 요법)':\n",
    "        detail_input = patient+'_'+date+'_'+'0'\n",
    "        ADL_resp.append(detail_input)\n",
    "    elif detail =='해당없음':\n",
    "        detail_input = patient+'_'+date+'_'+'0'\n",
    "        ADL_resp.append(detail_input)\n",
    "    elif detail =='비강캐뉼라, 산소마스크 등을 이용하여 산소투여하고 시행하고 기록이 있는 경우':\n",
    "        detail_input = patient+'_'+date+'_'+'1'\n",
    "        ADL_resp.append(detail_input)\n",
    "    elif detail =='T-cannula, E-tube 등을 통한 흡인간호, 드레싱 교환, T-cannula 교환':\n",
    "        detail_input = patient+'_'+date+'_'+'1'\n",
    "        ADL_resp.append(detail_input)\n",
    "    elif detail =='T-cannula, E-tube 등 을 통한 인공호흡기 사용, NPPV 또는 가온 가습 고유량 비강 캐뉼라 요법(optiflow)을 실시하고 기록이 있는 경우':\n",
    "        detail_input = patient+'_'+date+'_'+'1'\n",
    "        ADL_resp.append(detail_input)\n",
    "\n",
    "    ### 침상이동 ###\n",
    "    if detail == '도움 없음(도움 없이 스스로 침상 밖으로 이동이 가능, 무언가 잡거나 보조기구를 이용하여 스스로 가능한 경우, 와상, 절대안정 등의 사유로 침상 밖으로 이동이 없는 경우에 해당, 이동하기 위해 보조기구를 준비, 사이드 레일을 내리는 등의 도움은 포함하지 않음)':\n",
    "        detail_input = patient+'_'+date+'_'+'0'\n",
    "        ADL_outbed.append(detail_input)\n",
    "    elif detail == '도움없음(도움없이 이동할 수 있는 경우, 기어서라도 이동을 스스로 할 수 있는경우도 포함)':\n",
    "        detail_input = patient+'_'+date+'_'+'0'\n",
    "        ADL_outbed.append(detail_input)\n",
    "    elif detail == '일부 도움(스스로 침상 밖으로 나오는데 어려움이 있어 팔 또는 몸의 일부를 지지하는 도움이나 관찰이  반드시 필요함, 환자의 허약, 장애, 약물, 낙상 과거력, 치료기구 등으로 인하여 침상 밖으로 이동할 때마다 관찰이 필요한 경우)':\n",
    "        detail_input = patient+'_'+date+'_'+'1'\n",
    "        ADL_outbed.append(detail_input)\n",
    "    elif detail == '일부도움(직접 도움을 줄 필요는 없지만 사고 등이 나지 않도록 지켜보는 경우, 들것에 이동 시 환자가 자력으로 조금씩 이동할 수 있는 경우, 부분적 도움이 행해지는 경우, 위험이 없도록 간호사 등이 추가 도움을 주는 경우)':\n",
    "        detail_input = patient+'_'+date+'_'+'1'\n",
    "        ADL_outbed.append(detail_input)\n",
    "    elif detail == '전부 도움(혼자서는 침상 밖으로 이동을 전혀 할 수 없어 간호직원 등에 의해 안고, 옮겨주는(기구 혹은 장비 이용 포함) 등의  전적인 도움을 받는 경우)':\n",
    "        detail_input = patient+'_'+date+'_'+'2'\n",
    "        ADL_outbed.append(detail_input)\n",
    "    elif detail == '전부도움(자신이 이동을 전혀 할 수 없는 경우, 전면적인 도움이 행해지는 경우)':\n",
    "        detail_input = patient+'_'+date+'_'+'2'\n",
    "        ADL_outbed.append(detail_input)\n",
    "\n",
    "    ### 위험\n",
    "    if detail ==\"위험 치매, 섬망, 간성호수, 환각(hallucination)등으로 위험행동이 발생했거나 발생할 가능성이 높아 집중적인 관찰을 요하는 상태로 위험행동 예방을 위한 관리를 하고 기록이 있는 경우 *위험행동: 배액관, 주입라인 제거, 자해, 폭행 등 신처적(물리적) 위해가 발생하는 행동\":\n",
    "        detail_input = patient+'_'+date+'_'+'1'\n",
    "        ADL_danger.append(detail_input)\n",
    "    elif detail =='위험 해당없음':\n",
    "        detail_input = patient+'_'+date+'_'+'0'\n",
    "        ADL_danger.append(detail_input)\n",
    "\n",
    "    \n",
    "    ### 전문치료\n",
    "    if detail ==\"7개중 1개 이상/1일(마약성주사, 항암치료, 승압제, 항부정맥제, 면역억제제, 항혈전/색전제, 수혈)\":\n",
    "        detail_input = patient+'_'+date+'_'+'1'\n",
    "        ADL_spe.append(detail_input)\n",
    "    elif detail =='미시행':\n",
    "        detail_input = patient+'_'+date+'_'+'0'\n",
    "        ADL_spe.append(detail_input)\n",
    "    \n",
    "\n",
    "    else:\n",
    "        pass\n",
    "\n"
   ]
  },
  {
   "cell_type": "code",
   "execution_count": 20,
   "metadata": {},
   "outputs": [
    {
     "data": {
      "text/plain": [
       "ADL_배뇨, 배변          217\n",
       "ADL_식사섭취            217\n",
       "ADL_침상 밖으로 이동       217\n",
       "ADL_체위변경            217\n",
       "호흡 간호_비침습적 산소 투여    217\n",
       "위험행동관리              109\n",
       "전문치료 시행             108\n",
       "Name: 도구명, dtype: int64"
      ]
     },
     "execution_count": 20,
     "metadata": {},
     "output_type": "execute_result"
    }
   ],
   "source": [
    "test['도구명'].value_counts()"
   ]
  },
  {
   "cell_type": "code",
   "execution_count": 21,
   "metadata": {},
   "outputs": [
    {
     "name": "stdout",
     "output_type": "stream",
     "text": [
      "(217, 3)\n"
     ]
    },
    {
     "data": {
      "text/html": [
       "<div>\n",
       "<style scoped>\n",
       "    .dataframe tbody tr th:only-of-type {\n",
       "        vertical-align: middle;\n",
       "    }\n",
       "\n",
       "    .dataframe tbody tr th {\n",
       "        vertical-align: top;\n",
       "    }\n",
       "\n",
       "    .dataframe thead th {\n",
       "        text-align: right;\n",
       "    }\n",
       "</style>\n",
       "<table border=\"1\" class=\"dataframe\">\n",
       "  <thead>\n",
       "    <tr style=\"text-align: right;\">\n",
       "      <th></th>\n",
       "      <th>등록번호</th>\n",
       "      <th>평가일자</th>\n",
       "      <th>ADL_식사섭취</th>\n",
       "    </tr>\n",
       "  </thead>\n",
       "  <tbody>\n",
       "    <tr>\n",
       "      <th>0</th>\n",
       "      <td>1393198</td>\n",
       "      <td>2017-07-01</td>\n",
       "      <td>1</td>\n",
       "    </tr>\n",
       "    <tr>\n",
       "      <th>1</th>\n",
       "      <td>1393198</td>\n",
       "      <td>2017-07-02</td>\n",
       "      <td>1</td>\n",
       "    </tr>\n",
       "  </tbody>\n",
       "</table>\n",
       "</div>"
      ],
      "text/plain": [
       "      등록번호        평가일자 ADL_식사섭취\n",
       "0  1393198  2017-07-01        1\n",
       "1  1393198  2017-07-02        1"
      ]
     },
     "execution_count": 21,
     "metadata": {},
     "output_type": "execute_result"
    }
   ],
   "source": [
    "meal_patient = []\n",
    "meal_date = []\n",
    "meal_adl = []\n",
    "\n",
    "for i in ADL_meal:\n",
    "    patient = i.split('_')[0]\n",
    "    date = i.split('_')[1]\n",
    "    adl = i.split('_')[-1]\n",
    "\n",
    "    meal_patient.append(patient)\n",
    "    meal_date.append(date)\n",
    "    meal_adl.append(adl)\n",
    "\n",
    "adl_meal_df = pd.DataFrame({'등록번호':meal_patient, '평가일자':meal_date, 'ADL_식사섭취':meal_adl})\n",
    "print(adl_meal_df.shape)\n",
    "adl_meal_df.head(2)"
   ]
  },
  {
   "cell_type": "code",
   "execution_count": 22,
   "metadata": {},
   "outputs": [
    {
     "name": "stdout",
     "output_type": "stream",
     "text": [
      "(217, 3)\n"
     ]
    },
    {
     "data": {
      "text/html": [
       "<div>\n",
       "<style scoped>\n",
       "    .dataframe tbody tr th:only-of-type {\n",
       "        vertical-align: middle;\n",
       "    }\n",
       "\n",
       "    .dataframe tbody tr th {\n",
       "        vertical-align: top;\n",
       "    }\n",
       "\n",
       "    .dataframe thead th {\n",
       "        text-align: right;\n",
       "    }\n",
       "</style>\n",
       "<table border=\"1\" class=\"dataframe\">\n",
       "  <thead>\n",
       "    <tr style=\"text-align: right;\">\n",
       "      <th></th>\n",
       "      <th>등록번호</th>\n",
       "      <th>평가일자</th>\n",
       "      <th>ADL_침상 밖으로 이동</th>\n",
       "    </tr>\n",
       "  </thead>\n",
       "  <tbody>\n",
       "    <tr>\n",
       "      <th>0</th>\n",
       "      <td>1393198</td>\n",
       "      <td>2017-07-01</td>\n",
       "      <td>0</td>\n",
       "    </tr>\n",
       "    <tr>\n",
       "      <th>1</th>\n",
       "      <td>1393198</td>\n",
       "      <td>2017-07-02</td>\n",
       "      <td>0</td>\n",
       "    </tr>\n",
       "  </tbody>\n",
       "</table>\n",
       "</div>"
      ],
      "text/plain": [
       "      등록번호        평가일자 ADL_침상 밖으로 이동\n",
       "0  1393198  2017-07-01             0\n",
       "1  1393198  2017-07-02             0"
      ]
     },
     "execution_count": 22,
     "metadata": {},
     "output_type": "execute_result"
    }
   ],
   "source": [
    "outbed_patient = []\n",
    "outbed_date = []\n",
    "outbed_adl = []\n",
    "\n",
    "for i in ADL_outbed:\n",
    "    patient = i.split('_')[0]\n",
    "    date = i.split('_')[1]\n",
    "    adl = i.split('_')[-1]\n",
    "\n",
    "    outbed_patient.append(patient)\n",
    "    outbed_date.append(date)\n",
    "    outbed_adl.append(adl)\n",
    "\n",
    "adl_outbed_df = pd.DataFrame({'등록번호':outbed_patient, '평가일자':outbed_date, 'ADL_침상 밖으로 이동':outbed_adl})\n",
    "print(adl_outbed_df.shape)\n",
    "adl_outbed_df.head(2)"
   ]
  },
  {
   "cell_type": "code",
   "execution_count": 23,
   "metadata": {},
   "outputs": [
    {
     "name": "stdout",
     "output_type": "stream",
     "text": [
      "(217, 3)\n"
     ]
    },
    {
     "data": {
      "text/html": [
       "<div>\n",
       "<style scoped>\n",
       "    .dataframe tbody tr th:only-of-type {\n",
       "        vertical-align: middle;\n",
       "    }\n",
       "\n",
       "    .dataframe tbody tr th {\n",
       "        vertical-align: top;\n",
       "    }\n",
       "\n",
       "    .dataframe thead th {\n",
       "        text-align: right;\n",
       "    }\n",
       "</style>\n",
       "<table border=\"1\" class=\"dataframe\">\n",
       "  <thead>\n",
       "    <tr style=\"text-align: right;\">\n",
       "      <th></th>\n",
       "      <th>등록번호</th>\n",
       "      <th>평가일자</th>\n",
       "      <th>ADL_체위변경</th>\n",
       "    </tr>\n",
       "  </thead>\n",
       "  <tbody>\n",
       "    <tr>\n",
       "      <th>0</th>\n",
       "      <td>1393198</td>\n",
       "      <td>2017-07-01</td>\n",
       "      <td>0</td>\n",
       "    </tr>\n",
       "    <tr>\n",
       "      <th>1</th>\n",
       "      <td>1393198</td>\n",
       "      <td>2017-07-02</td>\n",
       "      <td>0</td>\n",
       "    </tr>\n",
       "  </tbody>\n",
       "</table>\n",
       "</div>"
      ],
      "text/plain": [
       "      등록번호        평가일자 ADL_체위변경\n",
       "0  1393198  2017-07-01        0\n",
       "1  1393198  2017-07-02        0"
      ]
     },
     "execution_count": 23,
     "metadata": {},
     "output_type": "execute_result"
    }
   ],
   "source": [
    "pos_patient = []\n",
    "pos_date = []\n",
    "pos_adl = []\n",
    "\n",
    "for i in ADL_pos:\n",
    "    patient = i.split('_')[0]\n",
    "    date = i.split('_')[1]\n",
    "    adl = i.split('_')[-1]\n",
    "\n",
    "    pos_patient.append(patient)\n",
    "    pos_date.append(date)\n",
    "    pos_adl.append(adl)\n",
    "\n",
    "adl_pos_df = pd.DataFrame({'등록번호':pos_patient, '평가일자':pos_date, 'ADL_체위변경':pos_adl})\n",
    "print(adl_pos_df.shape)\n",
    "adl_pos_df.head(2)"
   ]
  },
  {
   "cell_type": "code",
   "execution_count": 24,
   "metadata": {},
   "outputs": [
    {
     "name": "stdout",
     "output_type": "stream",
     "text": [
      "(217, 3)\n",
      "60\n"
     ]
    },
    {
     "data": {
      "text/html": [
       "<div>\n",
       "<style scoped>\n",
       "    .dataframe tbody tr th:only-of-type {\n",
       "        vertical-align: middle;\n",
       "    }\n",
       "\n",
       "    .dataframe tbody tr th {\n",
       "        vertical-align: top;\n",
       "    }\n",
       "\n",
       "    .dataframe thead th {\n",
       "        text-align: right;\n",
       "    }\n",
       "</style>\n",
       "<table border=\"1\" class=\"dataframe\">\n",
       "  <thead>\n",
       "    <tr style=\"text-align: right;\">\n",
       "      <th></th>\n",
       "      <th>등록번호</th>\n",
       "      <th>평가일자</th>\n",
       "      <th>호흡 간호_비침습적 산소 투여</th>\n",
       "    </tr>\n",
       "  </thead>\n",
       "  <tbody>\n",
       "    <tr>\n",
       "      <th>0</th>\n",
       "      <td>1393198</td>\n",
       "      <td>2017-07-01</td>\n",
       "      <td>0</td>\n",
       "    </tr>\n",
       "    <tr>\n",
       "      <th>1</th>\n",
       "      <td>1393198</td>\n",
       "      <td>2017-07-02</td>\n",
       "      <td>0</td>\n",
       "    </tr>\n",
       "  </tbody>\n",
       "</table>\n",
       "</div>"
      ],
      "text/plain": [
       "      등록번호        평가일자 호흡 간호_비침습적 산소 투여\n",
       "0  1393198  2017-07-01                0\n",
       "1  1393198  2017-07-02                0"
      ]
     },
     "execution_count": 24,
     "metadata": {},
     "output_type": "execute_result"
    }
   ],
   "source": [
    "resp_patient = []\n",
    "resp_date = []\n",
    "resp_adl = []\n",
    "\n",
    "for i in ADL_resp:\n",
    "    patient = i.split('_')[0]\n",
    "    date = i.split('_')[1]\n",
    "    adl = i.split('_')[-1]\n",
    "\n",
    "    resp_patient.append(patient)\n",
    "    resp_date.append(date)\n",
    "    resp_adl.append(adl)\n",
    "\n",
    "adl_resp_df = pd.DataFrame({'등록번호':resp_patient, '평가일자':resp_date, '호흡 간호_비침습적 산소 투여':resp_adl})\n",
    "print(adl_resp_df.shape)\n",
    "print(len(adl_resp_df['등록번호'].unique()))\n",
    "adl_resp_df.head(2)"
   ]
  },
  {
   "cell_type": "code",
   "execution_count": 25,
   "metadata": {},
   "outputs": [
    {
     "name": "stdout",
     "output_type": "stream",
     "text": [
      "(217, 3)\n",
      "60\n"
     ]
    },
    {
     "data": {
      "text/html": [
       "<div>\n",
       "<style scoped>\n",
       "    .dataframe tbody tr th:only-of-type {\n",
       "        vertical-align: middle;\n",
       "    }\n",
       "\n",
       "    .dataframe tbody tr th {\n",
       "        vertical-align: top;\n",
       "    }\n",
       "\n",
       "    .dataframe thead th {\n",
       "        text-align: right;\n",
       "    }\n",
       "</style>\n",
       "<table border=\"1\" class=\"dataframe\">\n",
       "  <thead>\n",
       "    <tr style=\"text-align: right;\">\n",
       "      <th></th>\n",
       "      <th>등록번호</th>\n",
       "      <th>평가일자</th>\n",
       "      <th>ADL_배뇨, 배변</th>\n",
       "    </tr>\n",
       "  </thead>\n",
       "  <tbody>\n",
       "    <tr>\n",
       "      <th>0</th>\n",
       "      <td>1393198</td>\n",
       "      <td>2017-07-01</td>\n",
       "      <td>0</td>\n",
       "    </tr>\n",
       "    <tr>\n",
       "      <th>1</th>\n",
       "      <td>1393198</td>\n",
       "      <td>2017-07-02</td>\n",
       "      <td>0</td>\n",
       "    </tr>\n",
       "  </tbody>\n",
       "</table>\n",
       "</div>"
      ],
      "text/plain": [
       "      등록번호        평가일자 ADL_배뇨, 배변\n",
       "0  1393198  2017-07-01          0\n",
       "1  1393198  2017-07-02          0"
      ]
     },
     "execution_count": 25,
     "metadata": {},
     "output_type": "execute_result"
    }
   ],
   "source": [
    "uri_patient = []\n",
    "uri_date = []\n",
    "uri_adl = []\n",
    "\n",
    "for i in ADL_uri:\n",
    "    patient = i.split('_')[0]\n",
    "    date = i.split('_')[1]\n",
    "    adl = i.split('_')[-1]\n",
    "\n",
    "    uri_patient.append(patient)\n",
    "    uri_date.append(date)\n",
    "    uri_adl.append(adl)\n",
    "\n",
    "adl_uri_df = pd.DataFrame({'등록번호':uri_patient, '평가일자':uri_date, 'ADL_배뇨, 배변':uri_adl})\n",
    "print(adl_uri_df.shape)\n",
    "print(len(adl_uri_df['등록번호'].unique()))\n",
    "adl_uri_df.head(2)"
   ]
  },
  {
   "cell_type": "code",
   "execution_count": 26,
   "metadata": {},
   "outputs": [
    {
     "name": "stdout",
     "output_type": "stream",
     "text": [
      "(109, 3)\n",
      "34\n"
     ]
    },
    {
     "data": {
      "text/html": [
       "<div>\n",
       "<style scoped>\n",
       "    .dataframe tbody tr th:only-of-type {\n",
       "        vertical-align: middle;\n",
       "    }\n",
       "\n",
       "    .dataframe tbody tr th {\n",
       "        vertical-align: top;\n",
       "    }\n",
       "\n",
       "    .dataframe thead th {\n",
       "        text-align: right;\n",
       "    }\n",
       "</style>\n",
       "<table border=\"1\" class=\"dataframe\">\n",
       "  <thead>\n",
       "    <tr style=\"text-align: right;\">\n",
       "      <th></th>\n",
       "      <th>등록번호</th>\n",
       "      <th>평가일자</th>\n",
       "      <th>ADL_위험</th>\n",
       "    </tr>\n",
       "  </thead>\n",
       "  <tbody>\n",
       "    <tr>\n",
       "      <th>0</th>\n",
       "      <td>796422</td>\n",
       "      <td>2019-12-21</td>\n",
       "      <td>0</td>\n",
       "    </tr>\n",
       "    <tr>\n",
       "      <th>1</th>\n",
       "      <td>796422</td>\n",
       "      <td>2019-12-22</td>\n",
       "      <td>0</td>\n",
       "    </tr>\n",
       "  </tbody>\n",
       "</table>\n",
       "</div>"
      ],
      "text/plain": [
       "     등록번호        평가일자 ADL_위험\n",
       "0  796422  2019-12-21      0\n",
       "1  796422  2019-12-22      0"
      ]
     },
     "execution_count": 26,
     "metadata": {},
     "output_type": "execute_result"
    }
   ],
   "source": [
    "danger_patient = []\n",
    "danger_date = []\n",
    "danger_adl = []\n",
    "\n",
    "for i in ADL_danger:\n",
    "    patient = i.split('_')[0]\n",
    "    date = i.split('_')[1]\n",
    "    adl = i.split('_')[-1]\n",
    "\n",
    "    danger_patient.append(patient)\n",
    "    danger_date.append(date)\n",
    "    danger_adl.append(adl)\n",
    "\n",
    "adl_danger_df = pd.DataFrame({'등록번호':danger_patient, '평가일자':danger_date, 'ADL_위험':danger_adl})\n",
    "print(adl_danger_df.shape)\n",
    "print(len(adl_danger_df['등록번호'].unique()))\n",
    "adl_danger_df.head(2)"
   ]
  },
  {
   "cell_type": "code",
   "execution_count": 27,
   "metadata": {},
   "outputs": [
    {
     "name": "stdout",
     "output_type": "stream",
     "text": [
      "(108, 3)\n",
      "27\n"
     ]
    },
    {
     "data": {
      "text/html": [
       "<div>\n",
       "<style scoped>\n",
       "    .dataframe tbody tr th:only-of-type {\n",
       "        vertical-align: middle;\n",
       "    }\n",
       "\n",
       "    .dataframe tbody tr th {\n",
       "        vertical-align: top;\n",
       "    }\n",
       "\n",
       "    .dataframe thead th {\n",
       "        text-align: right;\n",
       "    }\n",
       "</style>\n",
       "<table border=\"1\" class=\"dataframe\">\n",
       "  <thead>\n",
       "    <tr style=\"text-align: right;\">\n",
       "      <th></th>\n",
       "      <th>등록번호</th>\n",
       "      <th>평가일자</th>\n",
       "      <th>ADL_전문</th>\n",
       "    </tr>\n",
       "  </thead>\n",
       "  <tbody>\n",
       "    <tr>\n",
       "      <th>0</th>\n",
       "      <td>1393198</td>\n",
       "      <td>2017-07-01</td>\n",
       "      <td>1</td>\n",
       "    </tr>\n",
       "    <tr>\n",
       "      <th>1</th>\n",
       "      <td>1393198</td>\n",
       "      <td>2017-07-02</td>\n",
       "      <td>1</td>\n",
       "    </tr>\n",
       "  </tbody>\n",
       "</table>\n",
       "</div>"
      ],
      "text/plain": [
       "      등록번호        평가일자 ADL_전문\n",
       "0  1393198  2017-07-01      1\n",
       "1  1393198  2017-07-02      1"
      ]
     },
     "execution_count": 27,
     "metadata": {},
     "output_type": "execute_result"
    }
   ],
   "source": [
    "spe_patient = []\n",
    "spe_date = []\n",
    "spe_adl = []\n",
    "\n",
    "for i in ADL_spe:\n",
    "    patient = i.split('_')[0]\n",
    "    date = i.split('_')[1]\n",
    "    adl = i.split('_')[-1]\n",
    "\n",
    "    spe_patient.append(patient)\n",
    "    spe_date.append(date)\n",
    "    spe_adl.append(adl)\n",
    "\n",
    "adl_spe_df = pd.DataFrame({'등록번호':spe_patient, '평가일자':spe_date, 'ADL_전문':spe_adl})\n",
    "print(adl_spe_df.shape)\n",
    "print(len(adl_spe_df['등록번호'].unique()))\n",
    "adl_spe_df.head(2)"
   ]
  },
  {
   "cell_type": "code",
   "execution_count": 28,
   "metadata": {},
   "outputs": [],
   "source": [
    "#### special_info_df\n",
    "adl_danger_df.to_csv('천안_위험행동관리.csv')\n",
    "adl_spe_df.to_csv('천안_전문치료.csv')"
   ]
  },
  {
   "cell_type": "code",
   "execution_count": 29,
   "metadata": {},
   "outputs": [
    {
     "name": "stdout",
     "output_type": "stream",
     "text": [
      "217\n",
      "217\n",
      "217\n",
      "217\n",
      "217\n",
      "108\n",
      "109\n"
     ]
    }
   ],
   "source": [
    "print(len(ADL_uri))\n",
    "print(len(ADL_resp))\n",
    "print(len(ADL_pos))\n",
    "print(len(ADL_outbed))\n",
    "print(len(ADL_meal))\n",
    "print(len(ADL_spe))\n",
    "print(len(ADL_danger))"
   ]
  },
  {
   "cell_type": "code",
   "execution_count": 30,
   "metadata": {},
   "outputs": [
    {
     "data": {
      "text/plain": [
       "ADL_배뇨, 배변          217\n",
       "ADL_식사섭취            217\n",
       "ADL_침상 밖으로 이동       217\n",
       "ADL_체위변경            217\n",
       "호흡 간호_비침습적 산소 투여    217\n",
       "위험행동관리              109\n",
       "전문치료 시행             108\n",
       "Name: 도구명, dtype: int64"
      ]
     },
     "execution_count": 30,
     "metadata": {},
     "output_type": "execute_result"
    }
   ],
   "source": [
    "needs['도구명'].value_counts()"
   ]
  },
  {
   "cell_type": "code",
   "execution_count": 31,
   "metadata": {},
   "outputs": [
    {
     "data": {
      "text/plain": [
       "60"
      ]
     },
     "execution_count": 31,
     "metadata": {},
     "output_type": "execute_result"
    }
   ],
   "source": [
    "final_adl = adl_uri_df.merge(adl_pos_df, on=['등록번호', '평가일자'], how='inner')\n",
    "final_adl = final_adl.merge(adl_outbed_df, on=['등록번호', '평가일자'], how='inner')\n",
    "final_adl = final_adl.merge(adl_meal_df, on=['등록번호', '평가일자'], how='inner')\n",
    "final_adl = final_adl.merge(adl_resp_df, on=['등록번호', '평가일자'], how='inner')\n",
    "len(final_adl['등록번호'].unique())"
   ]
  },
  {
   "cell_type": "code",
   "execution_count": 32,
   "metadata": {},
   "outputs": [
    {
     "data": {
      "text/plain": [
       "60"
      ]
     },
     "execution_count": 32,
     "metadata": {},
     "output_type": "execute_result"
    }
   ],
   "source": [
    "final_adl = final_adl.drop_duplicates()\n",
    "len(final_adl['등록번호'].unique())"
   ]
  },
  {
   "cell_type": "code",
   "execution_count": 33,
   "metadata": {},
   "outputs": [
    {
     "data": {
      "text/html": [
       "<div>\n",
       "<style scoped>\n",
       "    .dataframe tbody tr th:only-of-type {\n",
       "        vertical-align: middle;\n",
       "    }\n",
       "\n",
       "    .dataframe tbody tr th {\n",
       "        vertical-align: top;\n",
       "    }\n",
       "\n",
       "    .dataframe thead th {\n",
       "        text-align: right;\n",
       "    }\n",
       "</style>\n",
       "<table border=\"1\" class=\"dataframe\">\n",
       "  <thead>\n",
       "    <tr style=\"text-align: right;\">\n",
       "      <th></th>\n",
       "      <th>등록번호</th>\n",
       "      <th>평가일자</th>\n",
       "      <th>ADL_배뇨, 배변</th>\n",
       "      <th>ADL_체위변경</th>\n",
       "      <th>ADL_침상 밖으로 이동</th>\n",
       "      <th>ADL_식사섭취</th>\n",
       "      <th>호흡 간호_비침습적 산소 투여</th>\n",
       "    </tr>\n",
       "  </thead>\n",
       "  <tbody>\n",
       "    <tr>\n",
       "      <th>0</th>\n",
       "      <td>1393198</td>\n",
       "      <td>2017-07-01</td>\n",
       "      <td>0</td>\n",
       "      <td>0</td>\n",
       "      <td>0</td>\n",
       "      <td>1</td>\n",
       "      <td>0</td>\n",
       "    </tr>\n",
       "    <tr>\n",
       "      <th>1</th>\n",
       "      <td>1393198</td>\n",
       "      <td>2017-07-02</td>\n",
       "      <td>0</td>\n",
       "      <td>0</td>\n",
       "      <td>0</td>\n",
       "      <td>1</td>\n",
       "      <td>0</td>\n",
       "    </tr>\n",
       "    <tr>\n",
       "      <th>2</th>\n",
       "      <td>1393198</td>\n",
       "      <td>2017-07-05</td>\n",
       "      <td>0</td>\n",
       "      <td>0</td>\n",
       "      <td>0</td>\n",
       "      <td>1</td>\n",
       "      <td>0</td>\n",
       "    </tr>\n",
       "    <tr>\n",
       "      <th>3</th>\n",
       "      <td>1393198</td>\n",
       "      <td>2017-07-06</td>\n",
       "      <td>0</td>\n",
       "      <td>0</td>\n",
       "      <td>0</td>\n",
       "      <td>1</td>\n",
       "      <td>0</td>\n",
       "    </tr>\n",
       "    <tr>\n",
       "      <th>4</th>\n",
       "      <td>1393198</td>\n",
       "      <td>2017-07-07</td>\n",
       "      <td>0</td>\n",
       "      <td>0</td>\n",
       "      <td>0</td>\n",
       "      <td>1</td>\n",
       "      <td>0</td>\n",
       "    </tr>\n",
       "    <tr>\n",
       "      <th>...</th>\n",
       "      <td>...</td>\n",
       "      <td>...</td>\n",
       "      <td>...</td>\n",
       "      <td>...</td>\n",
       "      <td>...</td>\n",
       "      <td>...</td>\n",
       "      <td>...</td>\n",
       "    </tr>\n",
       "    <tr>\n",
       "      <th>272</th>\n",
       "      <td>594511</td>\n",
       "      <td>2021-07-10</td>\n",
       "      <td>0</td>\n",
       "      <td>0</td>\n",
       "      <td>0</td>\n",
       "      <td>0</td>\n",
       "      <td>0</td>\n",
       "    </tr>\n",
       "    <tr>\n",
       "      <th>273</th>\n",
       "      <td>860045</td>\n",
       "      <td>2021-07-22</td>\n",
       "      <td>0</td>\n",
       "      <td>0</td>\n",
       "      <td>1</td>\n",
       "      <td>0</td>\n",
       "      <td>0</td>\n",
       "    </tr>\n",
       "    <tr>\n",
       "      <th>274</th>\n",
       "      <td>860045</td>\n",
       "      <td>2021-07-23</td>\n",
       "      <td>1</td>\n",
       "      <td>0</td>\n",
       "      <td>1</td>\n",
       "      <td>0</td>\n",
       "      <td>0</td>\n",
       "    </tr>\n",
       "    <tr>\n",
       "      <th>275</th>\n",
       "      <td>860045</td>\n",
       "      <td>2021-07-24</td>\n",
       "      <td>1</td>\n",
       "      <td>0</td>\n",
       "      <td>1</td>\n",
       "      <td>0</td>\n",
       "      <td>0</td>\n",
       "    </tr>\n",
       "    <tr>\n",
       "      <th>276</th>\n",
       "      <td>860045</td>\n",
       "      <td>2021-07-25</td>\n",
       "      <td>1</td>\n",
       "      <td>0</td>\n",
       "      <td>1</td>\n",
       "      <td>0</td>\n",
       "      <td>0</td>\n",
       "    </tr>\n",
       "  </tbody>\n",
       "</table>\n",
       "<p>215 rows × 7 columns</p>\n",
       "</div>"
      ],
      "text/plain": [
       "        등록번호        평가일자 ADL_배뇨, 배변 ADL_체위변경 ADL_침상 밖으로 이동 ADL_식사섭취  \\\n",
       "0    1393198  2017-07-01          0        0             0        1   \n",
       "1    1393198  2017-07-02          0        0             0        1   \n",
       "2    1393198  2017-07-05          0        0             0        1   \n",
       "3    1393198  2017-07-06          0        0             0        1   \n",
       "4    1393198  2017-07-07          0        0             0        1   \n",
       "..       ...         ...        ...      ...           ...      ...   \n",
       "272   594511  2021-07-10          0        0             0        0   \n",
       "273   860045  2021-07-22          0        0             1        0   \n",
       "274   860045  2021-07-23          1        0             1        0   \n",
       "275   860045  2021-07-24          1        0             1        0   \n",
       "276   860045  2021-07-25          1        0             1        0   \n",
       "\n",
       "    호흡 간호_비침습적 산소 투여  \n",
       "0                  0  \n",
       "1                  0  \n",
       "2                  0  \n",
       "3                  0  \n",
       "4                  0  \n",
       "..               ...  \n",
       "272                0  \n",
       "273                0  \n",
       "274                0  \n",
       "275                0  \n",
       "276                0  \n",
       "\n",
       "[215 rows x 7 columns]"
      ]
     },
     "execution_count": 33,
     "metadata": {},
     "output_type": "execute_result"
    }
   ],
   "source": [
    "final_adl"
   ]
  },
  {
   "cell_type": "code",
   "execution_count": 35,
   "metadata": {},
   "outputs": [],
   "source": [
    "final_adl.to_csv('천안_간호필요도.csv')"
   ]
  }
 ],
 "metadata": {
  "kernelspec": {
   "display_name": "python_study_3",
   "language": "python",
   "name": "python3"
  },
  "language_info": {
   "codemirror_mode": {
    "name": "ipython",
    "version": 3
   },
   "file_extension": ".py",
   "mimetype": "text/x-python",
   "name": "python",
   "nbconvert_exporter": "python",
   "pygments_lexer": "ipython3",
   "version": "3.8.13"
  },
  "orig_nbformat": 4,
  "vscode": {
   "interpreter": {
    "hash": "c9d2ad4ecc603e49a7c29a3e0c552622d4cf0cd788e32e1ea188f0c1627c1560"
   }
  }
 },
 "nbformat": 4,
 "nbformat_minor": 2
}
